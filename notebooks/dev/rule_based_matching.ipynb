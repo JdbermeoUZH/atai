{
 "cells": [
  {
   "cell_type": "code",
   "execution_count": 4,
   "metadata": {
    "collapsed": true
   },
   "outputs": [
    {
     "name": "stdout",
     "output_type": "stream",
     "text": [
      "Collecting update\r\n",
      "  Downloading update-0.0.1-py2.py3-none-any.whl (2.9 kB)\r\n",
      "Requirement already satisfied: spacy in /home/juanbermeo/anaconda3/envs/ATAI/lib/python3.10/site-packages (2.3.8)\r\n",
      "Collecting style==1.1.0\r\n",
      "  Downloading style-1.1.0-py2.py3-none-any.whl (6.4 kB)\r\n",
      "Requirement already satisfied: thinc<7.5.0,>=7.4.1 in /home/juanbermeo/anaconda3/envs/ATAI/lib/python3.10/site-packages (from spacy) (7.4.6)\r\n",
      "Requirement already satisfied: srsly<1.1.0,>=1.0.2 in /home/juanbermeo/anaconda3/envs/ATAI/lib/python3.10/site-packages (from spacy) (1.0.6)\r\n",
      "Requirement already satisfied: catalogue<1.1.0,>=0.0.7 in /home/juanbermeo/anaconda3/envs/ATAI/lib/python3.10/site-packages (from spacy) (1.0.2)\r\n",
      "Requirement already satisfied: numpy>=1.15.0 in /home/juanbermeo/anaconda3/envs/ATAI/lib/python3.10/site-packages (from spacy) (1.23.3)\r\n",
      "Requirement already satisfied: wasabi<1.1.0,>=0.4.0 in /home/juanbermeo/anaconda3/envs/ATAI/lib/python3.10/site-packages (from spacy) (0.9.1)\r\n",
      "Requirement already satisfied: tqdm<5.0.0,>=4.38.0 in /home/juanbermeo/anaconda3/envs/ATAI/lib/python3.10/site-packages (from spacy) (4.64.1)\r\n",
      "Requirement already satisfied: setuptools in /home/juanbermeo/anaconda3/envs/ATAI/lib/python3.10/site-packages (from spacy) (65.5.0)\r\n",
      "Requirement already satisfied: plac<1.2.0,>=0.9.6 in /home/juanbermeo/anaconda3/envs/ATAI/lib/python3.10/site-packages (from spacy) (1.1.3)\r\n",
      "Requirement already satisfied: blis<0.8.0,>=0.4.0 in /home/juanbermeo/anaconda3/envs/ATAI/lib/python3.10/site-packages (from spacy) (0.7.9)\r\n",
      "Requirement already satisfied: preshed<3.1.0,>=3.0.2 in /home/juanbermeo/anaconda3/envs/ATAI/lib/python3.10/site-packages (from spacy) (3.0.6)\r\n",
      "Requirement already satisfied: murmurhash<1.1.0,>=0.28.0 in /home/juanbermeo/anaconda3/envs/ATAI/lib/python3.10/site-packages (from spacy) (1.0.7)\r\n",
      "Requirement already satisfied: cymem<2.1.0,>=2.0.2 in /home/juanbermeo/anaconda3/envs/ATAI/lib/python3.10/site-packages (from spacy) (2.0.6)\r\n",
      "Requirement already satisfied: requests<3.0.0,>=2.13.0 in /home/juanbermeo/anaconda3/envs/ATAI/lib/python3.10/site-packages (from spacy) (2.28.1)\r\n",
      "Requirement already satisfied: charset-normalizer<3,>=2 in /home/juanbermeo/anaconda3/envs/ATAI/lib/python3.10/site-packages (from requests<3.0.0,>=2.13.0->spacy) (2.0.4)\r\n",
      "Requirement already satisfied: idna<4,>=2.5 in /home/juanbermeo/anaconda3/envs/ATAI/lib/python3.10/site-packages (from requests<3.0.0,>=2.13.0->spacy) (3.4)\r\n",
      "Requirement already satisfied: urllib3<1.27,>=1.21.1 in /home/juanbermeo/anaconda3/envs/ATAI/lib/python3.10/site-packages (from requests<3.0.0,>=2.13.0->spacy) (1.26.12)\r\n",
      "Requirement already satisfied: certifi>=2017.4.17 in /home/juanbermeo/anaconda3/envs/ATAI/lib/python3.10/site-packages (from requests<3.0.0,>=2.13.0->spacy) (2022.9.24)\r\n",
      "Installing collected packages: style, update\r\n",
      "Successfully installed style-1.1.0 update-0.0.1\r\n"
     ]
    }
   ],
   "source": [
    "!pip install update spacy"
   ]
  },
  {
   "cell_type": "code",
   "execution_count": 7,
   "outputs": [],
   "source": [
    "import spacy\n",
    "from spacy.matcher import Matcher\n",
    "\n",
    "nlp = spacy.load(\"en_core_web_sm\")\n",
    "matcher = Matcher(nlp.vocab)\n",
    "# Add match ID \"HelloWorld\" with no callback and one pattern\n",
    "pattern = [{\"LOWER\": \"hello\"}, {\"IS_PUNCT\": True}, {\"LOWER\": \"world\"}, {\"IS_PUNCT\": True}]\n",
    "matcher.add(\"HelloWorld\", [pattern])\n",
    "\n",
    "doc = nlp(\"A complex-example,!\")\n",
    "matches = matcher(doc)"
   ],
   "metadata": {
    "collapsed": false
   }
  },
  {
   "cell_type": "code",
   "execution_count": 10,
   "outputs": [
    {
     "name": "stdout",
     "output_type": "stream",
     "text": [
      "[False, False, True, False, True, True]\n"
     ]
    }
   ],
   "source": [
    "print([token. for token in doc])"
   ],
   "metadata": {
    "collapsed": false
   }
  },
  {
   "cell_type": "code",
   "execution_count": 9,
   "outputs": [
    {
     "data": {
      "text/plain": "[]"
     },
     "execution_count": 9,
     "metadata": {},
     "output_type": "execute_result"
    }
   ],
   "source": [
    "matches"
   ],
   "metadata": {
    "collapsed": false
   }
  },
  {
   "cell_type": "code",
   "execution_count": 6,
   "outputs": [
    {
     "name": "stdout",
     "output_type": "stream",
     "text": [
      "15578876784678163569 HelloWorld 0 4 Hello, world!\n"
     ]
    }
   ],
   "source": [
    "for match_id, start, end in matches:\n",
    "    string_id = nlp.vocab.strings[match_id]  # Get string representation\n",
    "    span = doc[start:end]  # The matched span\n",
    "    print(match_id, string_id, start, end, span.text)"
   ],
   "metadata": {
    "collapsed": false
   }
  },
  {
   "cell_type": "code",
   "execution_count": null,
   "outputs": [],
   "source": [],
   "metadata": {
    "collapsed": false
   }
  }
 ],
 "metadata": {
  "kernelspec": {
   "display_name": "Python 3",
   "language": "python",
   "name": "python3"
  },
  "language_info": {
   "codemirror_mode": {
    "name": "ipython",
    "version": 2
   },
   "file_extension": ".py",
   "mimetype": "text/x-python",
   "name": "python",
   "nbconvert_exporter": "python",
   "pygments_lexer": "ipython2",
   "version": "2.7.6"
  }
 },
 "nbformat": 4,
 "nbformat_minor": 0
}
