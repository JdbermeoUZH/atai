{
 "cells": [
  {
   "cell_type": "code",
   "execution_count": 2,
   "metadata": {
    "collapsed": true
   },
   "outputs": [],
   "source": [
    "import os\n",
    "import json\n",
    "import pandas as pd\n",
    "import pandas as pd"
   ]
  },
  {
   "cell_type": "code",
   "execution_count": 9,
   "outputs": [],
   "source": [
    "json_path = '../../data/dataset/movienet/images.json'"
   ],
   "metadata": {
    "collapsed": false
   }
  },
  {
   "cell_type": "code",
   "execution_count": 10,
   "outputs": [],
   "source": [
    "with open(json_path, 'r') as fp:\n",
    "    img_meta_data = json.load(fp)"
   ],
   "metadata": {
    "collapsed": false
   }
  },
  {
   "cell_type": "code",
   "execution_count": 14,
   "outputs": [],
   "source": [
    "df = pd.DataFrame(img_meta_data)"
   ],
   "metadata": {
    "collapsed": false
   }
  },
  {
   "cell_type": "code",
   "execution_count": 32,
   "outputs": [],
   "source": [
    "df['num_people_image'] = df.cast.map(len)"
   ],
   "metadata": {
    "collapsed": false
   }
  },
  {
   "cell_type": "code",
   "execution_count": 81,
   "outputs": [
    {
     "data": {
      "text/plain": "still_frame          1391143\npublicity            1066695\nevent                 354859\nposter                169417\nbehind_the_scenes      97626\nproduct                41333\nproduction_art         34326\nunknown                  113\nuser_avatar               20\nName: type, dtype: int64"
     },
     "execution_count": 81,
     "metadata": {},
     "output_type": "execute_result"
    }
   ],
   "source": [
    "df.type.value_counts()"
   ],
   "metadata": {
    "collapsed": false
   }
  },
  {
   "cell_type": "markdown",
   "source": [
    "# Let's prioritize the images"
   ],
   "metadata": {
    "collapsed": false
   }
  },
  {
   "cell_type": "markdown",
   "source": [
    "## Poster images of a single persone"
   ],
   "metadata": {
    "collapsed": false
   }
  },
  {
   "cell_type": "code",
   "execution_count": 75,
   "outputs": [],
   "source": [
    "df1 = df[(df.type == 'poster') & (df.num_people_image == 1)]"
   ],
   "metadata": {
    "collapsed": false
   }
  },
  {
   "cell_type": "code",
   "execution_count": 76,
   "outputs": [],
   "source": [
    "df1 = df1[['cast', 'img']].explode(['cast']).drop_duplicates('cast').set_index('cast').sort_index()\n",
    "df1.columns = ['img_id']\n",
    "df1['img_id'] = df1['img_id'].str.split('.jpg').str[0]"
   ],
   "metadata": {
    "collapsed": false
   }
  },
  {
   "cell_type": "code",
   "execution_count": 78,
   "outputs": [],
   "source": [
    "df1.to_csv('imdb_to_movinet.csv')"
   ],
   "metadata": {
    "collapsed": false
   }
  },
  {
   "cell_type": "code",
   "execution_count": 79,
   "outputs": [
    {
     "data": {
      "text/plain": "                      img_id\ncast                        \nnm0000001  1402/rm3023015424\nnm0000002   1759/rm430181120\nnm0000003  1905/rm4250693888\nnm0000004   1933/rm232917504\nnm0000006  1482/rm1706780928",
      "text/html": "<div>\n<style scoped>\n    .dataframe tbody tr th:only-of-type {\n        vertical-align: middle;\n    }\n\n    .dataframe tbody tr th {\n        vertical-align: top;\n    }\n\n    .dataframe thead th {\n        text-align: right;\n    }\n</style>\n<table border=\"1\" class=\"dataframe\">\n  <thead>\n    <tr style=\"text-align: right;\">\n      <th></th>\n      <th>img_id</th>\n    </tr>\n    <tr>\n      <th>cast</th>\n      <th></th>\n    </tr>\n  </thead>\n  <tbody>\n    <tr>\n      <th>nm0000001</th>\n      <td>1402/rm3023015424</td>\n    </tr>\n    <tr>\n      <th>nm0000002</th>\n      <td>1759/rm430181120</td>\n    </tr>\n    <tr>\n      <th>nm0000003</th>\n      <td>1905/rm4250693888</td>\n    </tr>\n    <tr>\n      <th>nm0000004</th>\n      <td>1933/rm232917504</td>\n    </tr>\n    <tr>\n      <th>nm0000006</th>\n      <td>1482/rm1706780928</td>\n    </tr>\n  </tbody>\n</table>\n</div>"
     },
     "execution_count": 79,
     "metadata": {},
     "output_type": "execute_result"
    }
   ],
   "source": [
    "df1.head()"
   ],
   "metadata": {
    "collapsed": false
   }
  },
  {
   "cell_type": "markdown",
   "source": [
    "## Product images of a single person"
   ],
   "metadata": {
    "collapsed": false
   }
  },
  {
   "cell_type": "code",
   "execution_count": 85,
   "outputs": [],
   "source": [
    "df2 = df[(df.type == 'product') & (df.num_people_image == 1)]\n",
    "df2 = df2[['cast', 'img']].explode(['cast']).drop_duplicates('cast').set_index('cast').sort_index()"
   ],
   "metadata": {
    "collapsed": false
   }
  },
  {
   "cell_type": "code",
   "execution_count": 93,
   "outputs": [],
   "source": [
    "df2 = df2.loc[df2.index.difference(df1.index)]"
   ],
   "metadata": {
    "collapsed": false
   }
  },
  {
   "cell_type": "code",
   "execution_count": 95,
   "outputs": [],
   "source": [
    "df2.columns = ['img_id']\n",
    "df2['img_id'] = df2['img_id'].str.split('.jpg').str[0]"
   ],
   "metadata": {
    "collapsed": false
   }
  },
  {
   "cell_type": "code",
   "execution_count": 100,
   "outputs": [],
   "source": [
    "df_out = pd.concat([df1, df2], axis=0).sort_index()"
   ],
   "metadata": {
    "collapsed": false
   }
  },
  {
   "cell_type": "code",
   "execution_count": 102,
   "outputs": [],
   "source": [
    "df_out.to_csv('imdb_to_movinet.csv')"
   ],
   "metadata": {
    "collapsed": false
   }
  },
  {
   "cell_type": "markdown",
   "source": [
    "## Publicity images of a single person"
   ],
   "metadata": {
    "collapsed": false
   }
  },
  {
   "cell_type": "code",
   "execution_count": 111,
   "outputs": [],
   "source": [
    "df_out = pd.read_csv('imdb_to_movinet.csv', index_col='cast')"
   ],
   "metadata": {
    "collapsed": false
   }
  },
  {
   "cell_type": "code",
   "execution_count": 114,
   "outputs": [
    {
     "data": {
      "text/plain": "                      img_id\ncast                        \nnm0000001  1402/rm3023015424\nnm0000002   1759/rm430181120\nnm0000003  1905/rm4250693888\nnm0000004   1933/rm232917504\nnm0000005   3068/rm746130176",
      "text/html": "<div>\n<style scoped>\n    .dataframe tbody tr th:only-of-type {\n        vertical-align: middle;\n    }\n\n    .dataframe tbody tr th {\n        vertical-align: top;\n    }\n\n    .dataframe thead th {\n        text-align: right;\n    }\n</style>\n<table border=\"1\" class=\"dataframe\">\n  <thead>\n    <tr style=\"text-align: right;\">\n      <th></th>\n      <th>img_id</th>\n    </tr>\n    <tr>\n      <th>cast</th>\n      <th></th>\n    </tr>\n  </thead>\n  <tbody>\n    <tr>\n      <th>nm0000001</th>\n      <td>1402/rm3023015424</td>\n    </tr>\n    <tr>\n      <th>nm0000002</th>\n      <td>1759/rm430181120</td>\n    </tr>\n    <tr>\n      <th>nm0000003</th>\n      <td>1905/rm4250693888</td>\n    </tr>\n    <tr>\n      <th>nm0000004</th>\n      <td>1933/rm232917504</td>\n    </tr>\n    <tr>\n      <th>nm0000005</th>\n      <td>3068/rm746130176</td>\n    </tr>\n  </tbody>\n</table>\n</div>"
     },
     "execution_count": 113,
     "metadata": {},
     "output_type": "execute_result"
    },
    {
     "data": {
      "text/plain": "                      img_id\ncast                        \nnm0000001  1402/rm3023015424\nnm0000002   1759/rm430181120\nnm0000003  1905/rm4250693888\nnm0000004   1933/rm232917504\nnm0000005   3068/rm746130176",
      "text/html": "<div>\n<style scoped>\n    .dataframe tbody tr th:only-of-type {\n        vertical-align: middle;\n    }\n\n    .dataframe tbody tr th {\n        vertical-align: top;\n    }\n\n    .dataframe thead th {\n        text-align: right;\n    }\n</style>\n<table border=\"1\" class=\"dataframe\">\n  <thead>\n    <tr style=\"text-align: right;\">\n      <th></th>\n      <th>img_id</th>\n    </tr>\n    <tr>\n      <th>cast</th>\n      <th></th>\n    </tr>\n  </thead>\n  <tbody>\n    <tr>\n      <th>nm0000001</th>\n      <td>1402/rm3023015424</td>\n    </tr>\n    <tr>\n      <th>nm0000002</th>\n      <td>1759/rm430181120</td>\n    </tr>\n    <tr>\n      <th>nm0000003</th>\n      <td>1905/rm4250693888</td>\n    </tr>\n    <tr>\n      <th>nm0000004</th>\n      <td>1933/rm232917504</td>\n    </tr>\n    <tr>\n      <th>nm0000005</th>\n      <td>3068/rm746130176</td>\n    </tr>\n  </tbody>\n</table>\n</div>"
     },
     "execution_count": 114,
     "metadata": {},
     "output_type": "execute_result"
    }
   ],
   "source": [
    "df_out.head()"
   ],
   "metadata": {
    "collapsed": false
   }
  },
  {
   "cell_type": "code",
   "execution_count": 118,
   "outputs": [
    {
     "data": {
      "text/plain": "(84345, 1)"
     },
     "execution_count": 118,
     "metadata": {},
     "output_type": "execute_result"
    }
   ],
   "source": [
    "df3 = df[(df.type == 'publicity') & (df.num_people_image == 1)]\n",
    "df3 = df3[['cast', 'img']].explode(['cast']).drop_duplicates('cast').set_index('cast').sort_index()\n",
    "df3.shape"
   ],
   "metadata": {
    "collapsed": false
   }
  },
  {
   "cell_type": "code",
   "execution_count": 123,
   "outputs": [],
   "source": [
    "df3 = df3.loc[df3.index.difference(df_out.index)]"
   ],
   "metadata": {
    "collapsed": false
   }
  },
  {
   "cell_type": "code",
   "execution_count": 125,
   "outputs": [
    {
     "data": {
      "text/plain": "(72666, 1)"
     },
     "execution_count": 125,
     "metadata": {},
     "output_type": "execute_result"
    }
   ],
   "source": [
    "df3.shape"
   ],
   "metadata": {
    "collapsed": false
   }
  },
  {
   "cell_type": "code",
   "execution_count": 126,
   "outputs": [],
   "source": [
    "df3.columns = ['img_id']\n",
    "df3['img_id'] = df3['img_id'].str.split('.jpg').str[0]"
   ],
   "metadata": {
    "collapsed": false
   }
  },
  {
   "cell_type": "code",
   "execution_count": 127,
   "outputs": [],
   "source": [
    "df_out = pd.concat([df_out, df3], axis=0).sort_index()\n",
    "df_out.to_csv('imdb_to_movinet.csv')"
   ],
   "metadata": {
    "collapsed": false
   }
  },
  {
   "cell_type": "code",
   "execution_count": 130,
   "outputs": [],
   "source": [
    "df_out.to_csv('imdb_to_movinet.csv')"
   ],
   "metadata": {
    "collapsed": false
   }
  },
  {
   "cell_type": "markdown",
   "source": [
    "## Repeat it for the other categories"
   ],
   "metadata": {
    "collapsed": false
   }
  },
  {
   "cell_type": "code",
   "execution_count": 134,
   "outputs": [],
   "source": [
    "def add_more_ids(category, df_out_path='imdb_to_movinet.csv', output_path='imdb_to_movinet.csv'):\n",
    "    df_out_ = pd.read_csv(df_out_path, index_col='cast')\n",
    "    df_new = df[(df.type == category) & (df.num_people_image == 1)]\n",
    "    df_new = df_new[['cast', 'img']].explode(['cast']).drop_duplicates('cast').set_index('cast').sort_index()\n",
    "    print(df_new.shape)\n",
    "\n",
    "    # Remove overlap\n",
    "    df_new = df_new.loc[df_new.index.difference(df_out.index)]\n",
    "    print(df_new.shape)\n",
    "\n",
    "    # Rename and organize add_more_idsdf3.columns = ['img_id']\n",
    "    df_new.columns = ['img_id']\n",
    "    df_new['img_id'] = df_new['img_id'].str.split('.jpg').str[0]\n",
    "    df_out_ = pd.concat([df_out_, df_new], axis=0).sort_index()\n",
    "    print(f'new_number_of_rows: {df_out_.shape}')\n",
    "    df_out_.to_csv(output_path)"
   ],
   "metadata": {
    "collapsed": false
   }
  },
  {
   "cell_type": "code",
   "execution_count": 132,
   "outputs": [
    {
     "name": "stdout",
     "output_type": "stream",
     "text": [
      "(24547, 1)\n",
      "(9590, 1)\n"
     ]
    }
   ],
   "source": [
    "add_more_ids(category='event', df_out_path='imdb_to_movinet.csv', output_path='imdb_to_movinet_2.csv')"
   ],
   "metadata": {
    "collapsed": false
   }
  },
  {
   "cell_type": "code",
   "execution_count": 133,
   "outputs": [
    {
     "name": "stdout",
     "output_type": "stream",
     "text": [
      "(77628, 1)\n",
      "(36414, 1)\n"
     ]
    }
   ],
   "source": [
    "add_more_ids(category='still_frame', df_out_path='imdb_to_movinet_2.csv', output_path='imdb_to_movinet_2.csv')"
   ],
   "metadata": {
    "collapsed": false
   }
  },
  {
   "cell_type": "code",
   "execution_count": 135,
   "outputs": [
    {
     "name": "stdout",
     "output_type": "stream",
     "text": [
      "(16464, 1)\n",
      "(6643, 1)\n",
      "new_number_of_rows: (148464, 1)\n"
     ]
    }
   ],
   "source": [
    "add_more_ids(category='behind_the_scenes', df_out_path='imdb_to_movinet_2.csv', output_path='imdb_to_movinet_2.csv')"
   ],
   "metadata": {
    "collapsed": false
   }
  },
  {
   "cell_type": "code",
   "execution_count": 136,
   "outputs": [
    {
     "name": "stdout",
     "output_type": "stream",
     "text": [
      "(5747, 1)\n",
      "(1347, 1)\n",
      "new_number_of_rows: (149811, 1)\n"
     ]
    }
   ],
   "source": [
    "add_more_ids(category='production_art', df_out_path='imdb_to_movinet_2.csv', output_path='imdb_to_movinet_2.csv')"
   ],
   "metadata": {
    "collapsed": false
   }
  },
  {
   "cell_type": "markdown",
   "source": [
    "# Check total number of entities left"
   ],
   "metadata": {
    "collapsed": false
   }
  },
  {
   "cell_type": "code",
   "execution_count": 182,
   "outputs": [],
   "source": [
    "df_out = pd.read_csv('imdb_to_movinet_2.csv', index_col='cast')"
   ],
   "metadata": {
    "collapsed": false
   }
  },
  {
   "cell_type": "code",
   "execution_count": 183,
   "outputs": [
    {
     "data": {
      "text/plain": "                      img_id\ncast                        \nnm0000001  1402/rm3023015424\nnm0000002   1759/rm430181120\nnm0000003  1905/rm4250693888\nnm0000004   1933/rm232917504\nnm0000005   3068/rm746130176\n...                      ...\nnm9989523  2731/rm2416002048\nnm9990433  3661/rm1863679232\nnm9992386  2714/rm1937731840\nnm9993278  1682/rm1570599936\nnm9993426  2808/rm1290814720\n\n[149811 rows x 1 columns]",
      "text/html": "<div>\n<style scoped>\n    .dataframe tbody tr th:only-of-type {\n        vertical-align: middle;\n    }\n\n    .dataframe tbody tr th {\n        vertical-align: top;\n    }\n\n    .dataframe thead th {\n        text-align: right;\n    }\n</style>\n<table border=\"1\" class=\"dataframe\">\n  <thead>\n    <tr style=\"text-align: right;\">\n      <th></th>\n      <th>img_id</th>\n    </tr>\n    <tr>\n      <th>cast</th>\n      <th></th>\n    </tr>\n  </thead>\n  <tbody>\n    <tr>\n      <th>nm0000001</th>\n      <td>1402/rm3023015424</td>\n    </tr>\n    <tr>\n      <th>nm0000002</th>\n      <td>1759/rm430181120</td>\n    </tr>\n    <tr>\n      <th>nm0000003</th>\n      <td>1905/rm4250693888</td>\n    </tr>\n    <tr>\n      <th>nm0000004</th>\n      <td>1933/rm232917504</td>\n    </tr>\n    <tr>\n      <th>nm0000005</th>\n      <td>3068/rm746130176</td>\n    </tr>\n    <tr>\n      <th>...</th>\n      <td>...</td>\n    </tr>\n    <tr>\n      <th>nm9989523</th>\n      <td>2731/rm2416002048</td>\n    </tr>\n    <tr>\n      <th>nm9990433</th>\n      <td>3661/rm1863679232</td>\n    </tr>\n    <tr>\n      <th>nm9992386</th>\n      <td>2714/rm1937731840</td>\n    </tr>\n    <tr>\n      <th>nm9993278</th>\n      <td>1682/rm1570599936</td>\n    </tr>\n    <tr>\n      <th>nm9993426</th>\n      <td>2808/rm1290814720</td>\n    </tr>\n  </tbody>\n</table>\n<p>149811 rows × 1 columns</p>\n</div>"
     },
     "execution_count": 183,
     "metadata": {},
     "output_type": "execute_result"
    }
   ],
   "source": [
    "df_out"
   ],
   "metadata": {
    "collapsed": false
   }
  },
  {
   "cell_type": "code",
   "execution_count": 184,
   "outputs": [],
   "source": [
    "total_imdb_ids = pd.Index(df.cast.explode('cast').unique())"
   ],
   "metadata": {
    "collapsed": false
   }
  },
  {
   "cell_type": "code",
   "execution_count": 185,
   "outputs": [],
   "source": [
    "ids_left = total_imdb_ids.difference(df_out.index)"
   ],
   "metadata": {
    "collapsed": false
   }
  },
  {
   "cell_type": "code",
   "execution_count": 187,
   "outputs": [],
   "source": [
    "df_left = df[['cast', 'img', 'num_people_image']].explode('cast').set_index('cast').sort_index().loc[ids_left]"
   ],
   "metadata": {
    "collapsed": false
   }
  },
  {
   "cell_type": "code",
   "execution_count": 188,
   "outputs": [],
   "source": [
    "imgs_left_df = df_left.reset_index().sort_values(['index', 'num_people_image']).drop_duplicates('index')"
   ],
   "metadata": {
    "collapsed": false
   }
  },
  {
   "cell_type": "code",
   "execution_count": 189,
   "outputs": [],
   "source": [
    "imgs_left_df.drop('num_people_image', axis=1, inplace=True)"
   ],
   "metadata": {
    "collapsed": false
   }
  },
  {
   "cell_type": "code",
   "execution_count": 190,
   "outputs": [],
   "source": [
    "imgs_left_df.columns = ['cast', 'img_id']"
   ],
   "metadata": {
    "collapsed": false
   }
  },
  {
   "cell_type": "code",
   "execution_count": 191,
   "outputs": [
    {
     "data": {
      "text/plain": "             cast                 img_id\n1       nm0000055  0762/rm1617664000.jpg\n2       nm0000065  2246/rm3357233152.jpg\n4       nm0000085   0563/rm120690688.jpg\n5       nm0000390   2037/rm442014464.jpg\n7       nm0000540  2090/rm3340849664.jpg\n...           ...                    ...\n303984  nm9993276   1510/rm523008768.jpg\n303985  nm9993277   2339/rm774194432.jpg\n303986  nm9993571  3903/rm1495494656.jpg\n303988  nm9993616  3590/rm3214113792.jpg\n303991  nm9993621   2725/rm735659264.jpg\n\n[152559 rows x 2 columns]",
      "text/html": "<div>\n<style scoped>\n    .dataframe tbody tr th:only-of-type {\n        vertical-align: middle;\n    }\n\n    .dataframe tbody tr th {\n        vertical-align: top;\n    }\n\n    .dataframe thead th {\n        text-align: right;\n    }\n</style>\n<table border=\"1\" class=\"dataframe\">\n  <thead>\n    <tr style=\"text-align: right;\">\n      <th></th>\n      <th>cast</th>\n      <th>img_id</th>\n    </tr>\n  </thead>\n  <tbody>\n    <tr>\n      <th>1</th>\n      <td>nm0000055</td>\n      <td>0762/rm1617664000.jpg</td>\n    </tr>\n    <tr>\n      <th>2</th>\n      <td>nm0000065</td>\n      <td>2246/rm3357233152.jpg</td>\n    </tr>\n    <tr>\n      <th>4</th>\n      <td>nm0000085</td>\n      <td>0563/rm120690688.jpg</td>\n    </tr>\n    <tr>\n      <th>5</th>\n      <td>nm0000390</td>\n      <td>2037/rm442014464.jpg</td>\n    </tr>\n    <tr>\n      <th>7</th>\n      <td>nm0000540</td>\n      <td>2090/rm3340849664.jpg</td>\n    </tr>\n    <tr>\n      <th>...</th>\n      <td>...</td>\n      <td>...</td>\n    </tr>\n    <tr>\n      <th>303984</th>\n      <td>nm9993276</td>\n      <td>1510/rm523008768.jpg</td>\n    </tr>\n    <tr>\n      <th>303985</th>\n      <td>nm9993277</td>\n      <td>2339/rm774194432.jpg</td>\n    </tr>\n    <tr>\n      <th>303986</th>\n      <td>nm9993571</td>\n      <td>3903/rm1495494656.jpg</td>\n    </tr>\n    <tr>\n      <th>303988</th>\n      <td>nm9993616</td>\n      <td>3590/rm3214113792.jpg</td>\n    </tr>\n    <tr>\n      <th>303991</th>\n      <td>nm9993621</td>\n      <td>2725/rm735659264.jpg</td>\n    </tr>\n  </tbody>\n</table>\n<p>152559 rows × 2 columns</p>\n</div>"
     },
     "execution_count": 191,
     "metadata": {},
     "output_type": "execute_result"
    }
   ],
   "source": [
    "imgs_left_df"
   ],
   "metadata": {
    "collapsed": false
   }
  },
  {
   "cell_type": "code",
   "execution_count": 192,
   "outputs": [],
   "source": [
    "imgs_left_df['img_id'] = imgs_left_df['img_id'].str.split('.jpg').str[0]"
   ],
   "metadata": {
    "collapsed": false
   }
  },
  {
   "cell_type": "code",
   "execution_count": 193,
   "outputs": [],
   "source": [
    "df_out = pd.concat([df_out, imgs_left_df.set_index('cast')], axis=0).sort_index()"
   ],
   "metadata": {
    "collapsed": false
   }
  },
  {
   "cell_type": "code",
   "execution_count": 202,
   "outputs": [],
   "source": [
    "df_out.reset_index().drop_duplicates('cast').set_index('cast').sort_index().to_csv('imdb_to_movinet_final.csv')"
   ],
   "metadata": {
    "collapsed": false
   }
  },
  {
   "cell_type": "code",
   "execution_count": 194,
   "outputs": [
    {
     "data": {
      "text/plain": "291742"
     },
     "execution_count": 194,
     "metadata": {},
     "output_type": "execute_result"
    }
   ],
   "source": [
    "len(set(df_out.index.get_level_values(0)))"
   ],
   "metadata": {
    "collapsed": false
   }
  },
  {
   "cell_type": "code",
   "execution_count": 195,
   "outputs": [
    {
     "data": {
      "text/plain": "291742"
     },
     "execution_count": 195,
     "metadata": {},
     "output_type": "execute_result"
    }
   ],
   "source": [
    "len(set(df_out.index.get_level_values(0)))"
   ],
   "metadata": {
    "collapsed": false
   }
  },
  {
   "cell_type": "markdown",
   "source": [
    "Dump to json"
   ],
   "metadata": {
    "collapsed": false
   }
  },
  {
   "cell_type": "code",
   "execution_count": 205,
   "outputs": [
    {
     "data": {
      "text/plain": "{'nm0000001': '1402/rm3023015424',\n 'nm0000002': '1759/rm430181120',\n 'nm0000003': '1905/rm4250693888',\n 'nm0000004': '1933/rm232917504',\n 'nm0000005': '3068/rm746130176',\n 'nm0000006': '1482/rm1706780928',\n 'nm0000007': '2227/rm64341504',\n 'nm0000008': '1996/rm1206482688',\n 'nm0000009': '1182/rm1325218816',\n 'nm0000010': '1623/rm955532800',\n 'nm0000011': '2200/rm1965298944',\n 'nm0000012': '2681/rm487323904',\n 'nm0000013': '1154/rm1889614592',\n 'nm0000014': '2339/rm3770354176',\n 'nm0000015': '3185/rm2650344960',\n 'nm0000017': '2629/rm3058499072',\n 'nm0000018': '3869/rm1403519488',\n 'nm0000019': '0002/rm225638912',\n 'nm0000020': '1451/rm64349184',\n 'nm0000021': '2009/rm3192075776',\n 'nm0000022': '2419/rm887452416',\n 'nm0000023': '0497/rm259522304',\n 'nm0000024': '1543/rm447749632',\n 'nm0000025': '2616/rm2263023616',\n 'nm0000026': '0865/rm2154371584',\n 'nm0000027': '3585/rm3637217792',\n 'nm0000028': '1288/rm322393856',\n 'nm0000029': '2702/rm2814257920',\n 'nm0000030': '3723/rm1157143040',\n 'nm0000031': '2850/rm3320842240',\n 'nm0000032': '1467/rm2242378496',\n 'nm0000033': '2188/rm1270336256',\n 'nm0000034': '3193/rm4115938816',\n 'nm0000035': '2377/rm2525751808',\n 'nm0000036': '3124/rm1267825920',\n 'nm0000037': '2169/rm3764846848',\n 'nm0000038': '3224/rm1688472320',\n 'nm0000039': '1385/rm2809463552',\n 'nm0000040': '0518/rm742955008',\n 'nm0000041': '2946/rm1230209536',\n 'nm0000042': '2409/rm3427365888',\n 'nm0000043': '1155/rm1183657216',\n 'nm0000044': '1980/rm3925367808',\n 'nm0000045': '3026/rm943808256',\n 'nm0000046': '0807/rm113295360',\n 'nm0000047': '3645/rm1108360192',\n 'nm0000048': '0268/rm4203266816',\n 'nm0000049': '3753/rm4070948608',\n 'nm0000050': '0984/rm2538494976',\n 'nm0000051': '1174/rm1025975808',\n 'nm0000052': '3267/rm1935514880',\n 'nm0000053': '3198/rm459990016',\n 'nm0000054': '1675/rm3007778304',\n 'nm0000055': '0762/rm1617664000',\n 'nm0000056': '2803/rm2888053248',\n 'nm0000057': '3501/rm2962089472',\n 'nm0000058': '3239/rm957417728',\n 'nm0000059': '1421/rm681156352',\n 'nm0000060': '3285/rm4182507776',\n 'nm0000061': '1949/rm1066329600',\n 'nm0000062': '2917/rm347530496',\n 'nm0000063': '0309/rm1261906944',\n 'nm0000064': '3720/rm2305102592',\n 'nm0000065': '2246/rm3357233152',\n 'nm0000066': '2681/rm1532368896',\n 'nm0000068': '0717/rm447162112',\n 'nm0000069': '1621/rm2610770944',\n 'nm0000071': '3143/rm3276916480',\n 'nm0000072': '0463/rm614683136',\n 'nm0000073': '1452/rm2414543104',\n 'nm0000074': '0532/rm2550530560',\n 'nm0000075': '2310/rm3653371136',\n 'nm0000076': '1278/rm3657245184',\n 'nm0000078': '3733/rm705500160',\n 'nm0000079': '1639/rm935731456',\n 'nm0000080': '2795/rm680065792',\n 'nm0000081': '3266/rm3063417600',\n 'nm0000084': '0135/rm3308064000',\n 'nm0000085': '0563/rm120690688',\n 'nm0000086': '0498/rm3878223872',\n 'nm0000087': '2918/rm3395975680',\n 'nm0000089': '0110/rm767346432',\n 'nm0000090': '3345/rm3716977152',\n 'nm0000092': '3830/rm3627587840',\n 'nm0000093': '2771/rm1238605056',\n 'nm0000095': '2759/rm3215143680',\n 'nm0000096': '2593/rm809903104',\n 'nm0000097': '3011/rm3229367808',\n 'nm0000098': '2359/rm3199802880',\n 'nm0000099': '2014/rm1514560768',\n 'nm0000100': '2433/rm2152996608',\n 'nm0000101': '3618/rm3280836864',\n 'nm0000102': '3630/rm2101430784',\n 'nm0000103': '1525/rm82189312',\n 'nm0000104': '1183/rm2282099712',\n 'nm0000105': '3248/rm2283536896',\n 'nm0000106': '1785/rm1672950016',\n 'nm0000107': '2541/rm918369536',\n 'nm0000108': '0537/rm3281435648',\n 'nm0000109': '3137/rm3425892864',\n 'nm0000110': '2257/rm1611865344',\n 'nm0000111': '2596/rm3385142272',\n 'nm0000112': '1567/rm3224566272',\n 'nm0000113': '0498/rm3077183488',\n 'nm0000114': '0704/rm1270815744',\n 'nm0000115': '1319/rm759051008',\n 'nm0000116': '2656/rm2789493760',\n 'nm0000117': '3542/rm152472320',\n 'nm0000118': '2925/rm1843920896',\n 'nm0000119': '1276/rm19011328',\n 'nm0000120': '1064/rm1941897216',\n 'nm0000121': '3909/rm234769152',\n 'nm0000122': '3369/rm3137027072',\n 'nm0000123': '3196/rm3015120896',\n 'nm0000124': '1449/rm2848437248',\n 'nm0000125': '2214/rm1739526656',\n 'nm0000126': '2578/rm317208832',\n 'nm0000127': '1200/rm4197555456',\n 'nm0000128': '2590/rm13049600',\n 'nm0000129': '2288/rm1286245632',\n 'nm0000130': '0272/rm915831808',\n 'nm0000131': '2272/rm3985659904',\n 'nm0000132': '1401/rm2753974784',\n 'nm0000133': '1072/rm61035264',\n 'nm0000134': '0358/rm2625261568',\n 'nm0000135': '3103/rm2067373312',\n 'nm0000136': '3083/rm3360968960',\n 'nm0000137': '1307/rm3951103232',\n 'nm0000138': '2147/rm3360067072',\n 'nm0000139': '1799/rm1105539072',\n 'nm0000140': '0560/rm2829926400',\n 'nm0000141': '0754/rm3363042304',\n 'nm0000142': '0695/rm2952858880',\n 'nm0000143': '3534/rm1523745792',\n 'nm0000144': '3678/rm1567272704',\n 'nm0000145': '1223/rm3207117056',\n 'nm0000146': '2159/rm2700482560',\n 'nm0000147': '0453/rm739559424',\n 'nm0000148': '1386/rm2055749120',\n 'nm0000149': '0982/rm195169280',\n 'nm0000150': '3151/rm3564058368',\n 'nm0000151': '0972/rm72214784',\n 'nm0000152': '1439/rm2304390144',\n 'nm0000153': '0056/rm1386028032',\n 'nm0000154': '3793/rm1409260800',\n 'nm0000155': '1576/rm259469568',\n 'nm0000156': '0347/rm3990767616',\n 'nm0000157': '1691/rm4225698560',\n 'nm0000158': '1152/rm1761229824',\n 'nm0000159': '1853/rm1957466624',\n 'nm0000160': '3353/rm1772043776',\n 'nm0000161': '3367/rm2340224000',\n 'nm0000162': '3354/rm2379587328',\n 'nm0000163': '1472/rm2752550912',\n 'nm0000164': '3680/rm3232313088',\n 'nm0000165': '1337/rm2612461568',\n 'nm0000166': '1797/rm3930430976',\n 'nm0000167': '1691/rm2317827328',\n 'nm0000168': '1096/rm3073187328',\n 'nm0000169': '0612/rm2546340096',\n 'nm0000170': '1951/rm4195616512',\n 'nm0000171': '1167/rm1603385088',\n 'nm0000172': '2121/rm456444672',\n 'nm0000173': '2475/rm2596429056',\n 'nm0000174': '0715/rm640980992',\n 'nm0000175': '3843/rm1881559808',\n 'nm0000176': '0515/rm1786399488',\n 'nm0000177': '2505/rm300564224',\n 'nm0000178': '1933/rm3110415104',\n 'nm0000179': '1153/rm234303488',\n 'nm0000180': '2808/rm113279232',\n 'nm0000181': '1173/rm2886482688',\n 'nm0000182': '1998/rm2747703040',\n 'nm0000183': '1241/rm3554568448',\n 'nm0000184': '1177/rm604420864',\n 'nm0000185': '1626/rm3703053056',\n 'nm0000186': '1703/rm1793589248',\n 'nm0000187': '0878/rm2989170176',\n 'nm0000188': '2918/rm487726336',\n 'nm0000189': '2536/rm1530987776',\n 'nm0000190': '0439/rm3391985664',\n 'nm0000191': '3526/rm3220647424',\n 'nm0000192': '0575/rm1372074240',\n 'nm0000193': '2096/rm906237952',\n 'nm0000194': '1664/rm176171264',\n 'nm0000195': '2061/rm2692610304',\n 'nm0000196': '0755/rm722704384',\n 'nm0000197': '0667/rm683087872',\n 'nm0000198': '2003/rm1889607168',\n 'nm0000199': '0131/rm271409664',\n 'nm0000200': '0568/rm2513408512',\n 'nm0000201': '2774/rm636328448',\n 'nm0000202': '1611/rm3923258368',\n 'nm0000203': '1193/rm2389662720',\n 'nm0000204': '3368/rm2026920960',\n 'nm0000205': '0397/rm4063427072',\n 'nm0000206': '0524/rm810695168',\n 'nm0000207': '3360/rm2648704512',\n 'nm0000208': '3466/rm2036070400',\n 'nm0000209': '2027/rm1528374016',\n 'nm0000210': '1085/rm691035136',\n 'nm0000211': '2615/rm4225997056',\n 'nm0000212': '0906/rm712941056',\n 'nm0000213': '2746/rm3513590016',\n 'nm0000214': '0736/rm1812087296',\n 'nm0000215': '3499/rm411954944',\n 'nm0000216': '1283/rm3098986496',\n 'nm0000217': '3631/rm1655095040',\n 'nm0000218': '1791/rm1950094336',\n 'nm0000219': '2211/rm1426979328',\n 'nm0000220': '3190/rm185394176',\n 'nm0000221': '2925/rm4045297408',\n 'nm0000222': '2623/rm506788352',\n 'nm0000223': '0256/rm1794751232',\n 'nm0000224': '0612/rm1590779392',\n 'nm0000225': '2452/rm505419264',\n 'nm0000226': '2661/rm561317376',\n 'nm0000227': '0125/rm1493046272',\n 'nm0000228': '1975/rm1516116480',\n 'nm0000229': '3029/rm3297717760',\n 'nm0000230': '0872/rm793515776',\n 'nm0000231': '2480/rm4217385728',\n 'nm0000232': '1232/rm2780304384',\n 'nm0000233': '1613/rm501743616',\n 'nm0000234': '3818/rm3364431872',\n 'nm0000235': '2394/rm2947293952',\n 'nm0000236': '0607/rm359651840',\n 'nm0000237': '2433/rm3281068544',\n 'nm0000238': '3869/rm3335459584',\n 'nm0000239': '3044/rm4279474176',\n 'nm0000240': '0345/rm1467207680',\n 'nm0000241': '1875/rm1631208960',\n 'nm0000242': '1874/rm3447683840',\n 'nm0000243': '2090/rm469351168',\n 'nm0000244': '1827/rm2443785728',\n 'nm0000245': '1435/rm4146014976',\n 'nm0000246': '0883/rm142082816',\n 'nm0000247': '1925/rm1975685888',\n 'nm0000248': '3044/rm4244900608',\n 'nm0000249': '1653/rm1540764160',\n 'nm0000250': '3534/rm3435993344',\n 'nm0000252': '0614/rm2341275904',\n 'nm0000254': '2720/rm3963291392',\n 'nm0000255': '0368/rm3930787840',\n 'nm0000256': '2423/rm2016753920',\n 'nm0000257': '3311/rm3017615104',\n 'nm0000258': '0230/rm1551618560',\n 'nm0000259': '2751/rm666440704',\n 'nm0000260': '0523/rm4222917888',\n 'nm0000261': '0836/rm146635776',\n 'nm0000262': '0741/rm575551744',\n 'nm0000263': '2878/rm1968676352',\n 'nm0000264': '0762/rm2251985408',\n 'nm0000265': '1096/rm2118202112',\n 'nm0000266': '0293/rm2878279168',\n 'nm0000267': '2022/rm2710452992',\n 'nm0000268': '2546/rm3703083520',\n 'nm0000269': '3749/rm964559616',\n 'nm0000270': '1143/rm4041286144',\n 'nm0000271': '3078/rm3074930944',\n 'nm0000272': '3539/rm2534436352',\n 'nm0000273': '1226/rm2757893376',\n 'nm0000274': '0049/rm3766238208',\n 'nm0000275': '3232/rm1411108864',\n 'nm0000276': '0435/rm2892907776',\n 'nm0000277': '0820/rm1639524352',\n 'nm0000278': '1374/rm258568960',\n 'nm0000279': '0444/rm1625634304',\n 'nm0000280': '0445/rm413800704',\n 'nm0000281': '1212/rm3965979136',\n 'nm0000282': '2379/rm2089457920',\n 'nm0000283': '1837/rm2624891392',\n 'nm0000284': '1671/rm177014528',\n 'nm0000285': '3328/rm252319488',\n 'nm0000286': '0419/rm3440808448',\n 'nm0000287': '1857/rm1741712384',\n 'nm0000288': '2093/rm582259456',\n 'nm0000289': '3201/rm4089673216',\n 'nm0000290': '1022/rm3120989440',\n 'nm0000291': '1200/rm2207342080',\n 'nm0000292': '2555/rm3787499520',\n 'nm0000293': '1789/rm430702080',\n 'nm0000294': '2528/rm2468685824',\n 'nm0000295': '2709/rm680702976',\n 'nm0000296': '2614/rm713587712',\n 'nm0000297': '2599/rm523644672',\n 'nm0000298': '1969/rm3303831808',\n 'nm0000299': '0325/rm768347392',\n 'nm0000300': '0191/rm1754690816',\n 'nm0000301': '1622/rm2768582656',\n 'nm0000302': '1089/rm1468767488',\n 'nm0000303': '3370/rm3293191936',\n 'nm0000304': '2839/rm512754432',\n 'nm0000305': '3571/rm1186502400',\n 'nm0000306': '3559/rm1594662144',\n 'nm0000307': '3471/rm1894260480',\n 'nm0000308': '2540/rm3701740288',\n 'nm0000309': '3489/rm3258847232',\n 'nm0000310': '3824/rm556470528',\n 'nm0000311': '3397/rm503359488',\n 'nm0000312': '3500/rm4001337856',\n 'nm0000313': '3130/rm3919559424',\n 'nm0000314': '3037/rm4060126464',\n 'nm0000315': '1331/rm2266690304',\n 'nm0000316': '3295/rm56998400',\n 'nm0000317': '0181/rm3700199424',\n 'nm0000318': '0924/rm3782191360',\n 'nm0000319': '0415/rm2721455360',\n 'nm0000320': '1508/rm385677312',\n 'nm0000321': '2402/rm3075200000',\n 'nm0000322': '1514/rm1266769152',\n 'nm0000323': '1211/rm4262796544',\n 'nm0000324': '0776/rm919540480',\n 'nm0000325': '3569/rm3104086016',\n 'nm0000326': '1998/rm3559651840',\n 'nm0000327': '2730/rm1044453888',\n 'nm0000328': '2949/rm2849720320',\n 'nm0000329': '0457/rm2901219072',\n 'nm0000330': '0257/rm250484736',\n 'nm0000331': '1953/rm1017290240',\n 'nm0000332': '2086/rm369138944',\n 'nm0000333': '2782/rm561748224',\n 'nm0000334': '2762/rm1059730688',\n 'nm0000335': '3285/rm936516608',\n 'nm0000336': '0555/rm3425231872',\n 'nm0000337': '1538/rm3721894400',\n 'nm0000338': '0126/rm2581241344',\n 'nm0000339': '2181/rm1681555712',\n 'nm0000340': '3097/rm1636238080',\n 'nm0000341': '3476/rm3219390720',\n 'nm0000342': '0138/rm3087149568',\n 'nm0000343': '2401/rm1994915840',\n 'nm0000344': '2816/rm4167164672',\n 'nm0000345': '3522/rm1088944896',\n 'nm0000346': '1637/rm3047308288',\n 'nm0000347': '1966/rm4244132864',\n 'nm0000348': '3189/rm1400057344',\n 'nm0000349': '2042/rm4032500992',\n 'nm0000350': '1360/rm2064552448',\n 'nm0000351': '0261/rm1912938496',\n 'nm0000352': '0547/rm475043840',\n 'nm0000353': '2204/rm2044467200',\n 'nm0000354': '3897/rm580137472',\n 'nm0000355': '0223/rm4039073536',\n 'nm0000356': '1594/rm2321305856',\n 'nm0000357': '1901/rm1840589056',\n 'nm0000358': '2705/rm239996928',\n 'nm0000359': '2178/rm3808506624',\n 'nm0000360': '1568/rm1859345664',\n 'nm0000361': '1354/rm1124375296',\n 'nm0000362': '2411/rm951134464',\n 'nm0000363': '0175/rm314336000',\n 'nm0000364': '0304/rm3282045440',\n 'nm0000365': '3000/rm169485056',\n 'nm0000366': '2282/rm1774885120',\n 'nm0000367': '2786/rm3284085248',\n 'nm0000368': '2135/rm902511872',\n 'nm0000369': '0787/rm2393338624',\n 'nm0000370': '3256/rm1350665984',\n 'nm0000371': '2732/rm1119884032',\n 'nm0000372': '0569/rm2204698624',\n 'nm0000373': '2725/rm2930454272',\n 'nm0000374': '2265/rm3967887360',\n 'nm0000375': '2635/rm2398556672',\n 'nm0000376': '2753/rm1251564800',\n 'nm0000377': '0475/rm1487838976',\n 'nm0000378': '3296/rm3509472000',\n 'nm0000379': '2548/rm2876713472',\n 'nm0000380': '2325/rm200048640',\n 'nm0000381': '1671/rm2689015808',\n 'nm0000382': '2458/rm2419130624',\n 'nm0000383': '1428/rm1427152384',\n 'nm0000384': '2129/rm4164207616',\n 'nm0000385': '1949/rm2596675328',\n 'nm0000386': '3049/rm193653248',\n 'nm0000387': '0372/rm2697843200',\n 'nm0000388': '1320/rm299312384',\n 'nm0000389': '0898/rm1101955072',\n 'nm0000390': '2037/rm442014464',\n 'nm0000391': '2460/rm1391459072',\n 'nm0000392': '3603/rm318590976',\n 'nm0000393': '2822/rm3555854336',\n 'nm0000394': '1803/rm1979881984',\n 'nm0000395': '0113/rm1269161472',\n 'nm0000396': '3361/rm1035096064',\n 'nm0000397': '0362/rm4001500928',\n 'nm0000398': '0026/rm2337154560',\n 'nm0000399': '0233/rm1021837312',\n 'nm0000400': '3689/rm2217446144',\n 'nm0000401': '3009/rm2148898304',\n 'nm0000402': '2730/rm1503614464',\n 'nm0000403': '1780/rm1468149760',\n 'nm0000404': '2199/rm2988985600',\n 'nm0000405': '2669/rm3823473920',\n 'nm0000406': '3802/rm573777152',\n 'nm0000407': '2011/rm2060227584',\n 'nm0000408': '3022/rm3049512192',\n 'nm0000409': '2047/rm3018618112',\n 'nm0000410': '3650/rm1474533888',\n 'nm0000411': '3456/rm4127268608',\n 'nm0000412': '2248/rm79437568',\n 'nm0000413': '2882/rm3215497472',\n 'nm0000414': '3175/rm525492992',\n 'nm0000415': '2083/rm967967488',\n 'nm0000416': '2826/rm3718027776',\n 'nm0000417': '3102/rm1706635520',\n 'nm0000418': '3690/rm814254336',\n 'nm0000419': '1196/rm2326417152',\n 'nm0000420': '2941/rm3463776768',\n 'nm0000421': '3062/rm2387863296',\n 'nm0000422': '0917/rm2632269312',\n 'nm0000423': '2408/rm62130944',\n 'nm0000424': '1473/rm2163675648',\n 'nm0000425': '2482/rm3289914624',\n 'nm0000426': '2193/rm2804825088',\n 'nm0000427': '2137/rm788437504',\n 'nm0000428': '3873/rm1550830592',\n 'nm0000429': '0563/rm4152638976',\n 'nm0000430': '3236/rm2039223552',\n 'nm0000431': '1156/rm3690107392',\n 'nm0000432': '0798/rm2078690304',\n 'nm0000433': '2282/rm20222464',\n 'nm0000434': '3573/rm578554112',\n 'nm0000435': '3582/rm3388831488',\n 'nm0000436': '1892/rm1164876032',\n 'nm0000437': '0068/rm1516338176',\n 'nm0000438': '1054/rm3524829440',\n 'nm0000439': '1143/rm543878656',\n 'nm0000440': '3059/rm3904780288',\n 'nm0000441': '2202/rm667160064',\n 'nm0000442': '2856/rm253832704',\n 'nm0000443': '2174/rm1048398848',\n 'nm0000444': '1325/rm2150145280',\n 'nm0000445': '1997/rm4176584192',\n 'nm0000446': '3222/rm3573502720',\n 'nm0000447': '2369/rm3937141248',\n 'nm0000448': '2075/rm2263732480',\n 'nm0000449': '1203/rm2291521536',\n 'nm0000450': '3618/rm720078080',\n 'nm0000451': '2355/rm2918247936',\n 'nm0000452': '0186/rm2277998592',\n 'nm0000453': '1032/rm325622016',\n 'nm0000454': '0984/rm3808705024',\n 'nm0000455': '3517/rm3167324416',\n 'nm0000456': '0532/rm3615440896',\n 'nm0000457': '2391/rm1474050048',\n 'nm0000458': '1917/rm2575361024',\n 'nm0000459': '1024/rm4233434624',\n 'nm0000460': '1924/rm3235388160',\n 'nm0000461': '1166/rm837817088',\n 'nm0000462': '2291/rm26515456',\n 'nm0000463': '0838/rm3884718336',\n 'nm0000464': '1411/rm132058624',\n 'nm0000465': '1890/rm2597647872',\n 'nm0000466': '3275/rm2818739968',\n 'nm0000467': '0498/rm2495959040',\n 'nm0000468': '3297/rm4188632064',\n 'nm0000469': '0294/rm3854579712',\n 'nm0000470': '1829/rm1715038208',\n 'nm0000471': '2689/rm1464412416',\n 'nm0000472': '0075/rm1947133184',\n 'nm0000473': '3810/rm360974592',\n 'nm0000474': '1308/rm387119616',\n 'nm0000475': '3171/rm806746624',\n 'nm0000476': '2586/rm3321015296',\n 'nm0000477': '0603/rm2815634176',\n 'nm0000478': '0400/rm3978955776',\n 'nm0000479': '2444/rm3710335488',\n 'nm0000480': '3296/rm631278336',\n 'nm0000481': '0155/rm2654736128',\n 'nm0000482': '0279/rm2050370048',\n 'nm0000483': '1230/rm876900864',\n 'nm0000484': '1934/rm2052823296',\n 'nm0000485': '3279/rm3744386816',\n 'nm0000486': '1961/rm480481280',\n 'nm0000487': '0038/rm3492706560',\n 'nm0000488': '2203/rm2274959104',\n 'nm0000489': '1945/rm440870656',\n 'nm0000490': '0706/rm1981970944',\n 'nm0000491': '0343/rm2050323456',\n 'nm0000492': '1583/rm3740842496',\n 'nm0000493': '2780/rm4002276864',\n 'nm0000494': '2606/rm267884800',\n 'nm0000495': '0852/rm272772096',\n 'nm0000496': '2748/rm1183292672',\n 'nm0000497': '0083/rm2240326144',\n 'nm0000498': '0927/rm41715968',\n 'nm0000499': '0757/rm644715520',\n 'nm0000500': '2274/rm3162505984',\n 'nm0000501': '2306/rm783466752',\n 'nm0000502': '0381/rm1001301760',\n 'nm0000503': '2023/rm1260032512',\n 'nm0000504': '0588/rm3635694336',\n 'nm0000505': '0063/rm2235908608',\n 'nm0000506': '2953/rm330997760',\n 'nm0000507': '3838/rm2459241728',\n 'nm0000508': '1826/rm2773163520',\n 'nm0000509': '1840/rm1147134976',\n 'nm0000510': '1734/rm4257827840',\n 'nm0000511': '3820/rm3975484672',\n 'nm0000512': '2943/rm1467492864',\n 'nm0000513': '2116/rm2441581056',\n 'nm0000514': '2550/rm3668142336',\n 'nm0000515': '1672/rm2392124672',\n 'nm0000516': '0468/rm4143474944',\n 'nm0000517': '3807/rm3282953984',\n 'nm0000518': '1971/rm4138826752',\n 'nm0000519': '0663/rm650865152',\n 'nm0000520': '2624/rm3227944960',\n 'nm0000521': '1334/rm865536768',\n 'nm0000522': '2047/rm2947748352',\n 'nm0000523': '2452/rm3619273728',\n 'nm0000524': '0200/rm3319110144',\n 'nm0000525': '0204/rm2632933632',\n 'nm0000526': '3839/rm2433313280',\n 'nm0000527': '1754/rm3380742912',\n 'nm0000528': '2602/rm1371091968',\n 'nm0000529': '2515/rm4105185792',\n 'nm0000530': '2893/rm367590144',\n 'nm0000531': '1795/rm4022489344',\n 'nm0000532': '2131/rm2849577472',\n 'nm0000533': '3510/rm2288791552',\n 'nm0000534': '2853/rm735678976',\n 'nm0000535': '3337/rm2165045760',\n 'nm0000536': '0649/rm4251727104',\n 'nm0000537': '2107/rm15534336',\n 'nm0000538': '1377/rm101682432',\n 'nm0000539': '1445/rm2628909312',\n 'nm0000540': '2090/rm3340849664',\n 'nm0000541': '1164/rm767059968',\n 'nm0000542': '3125/rm2190286592',\n 'nm0000543': '1768/rm3154024704',\n 'nm0000544': '0120/rm1897850624',\n 'nm0000545': '1055/rm3853024768',\n 'nm0000546': '2330/rm3443540992',\n 'nm0000547': '0504/rm964011776',\n 'nm0000548': '1653/rm2525272064',\n 'nm0000549': '3776/rm4028168704',\n 'nm0000550': '2635/rm2201496320',\n 'nm0000551': '0356/rm3766456832',\n 'nm0000552': '0600/rm985923840',\n 'nm0000553': '3895/rm1638556416',\n 'nm0000554': '1539/rm985100800',\n 'nm0000555': '3743/rm1109719552',\n 'nm0000556': '2894/rm3345538560',\n 'nm0000557': '0137/rm755444224',\n 'nm0000558': '2838/rm539194624',\n 'nm0000559': '0557/rm4128575744',\n 'nm0000560': '0416/rm2884803072',\n 'nm0000562': '2389/rm4103379712',\n 'nm0000563': '1757/rm4025886976',\n 'nm0000564': '3747/rm4074869248',\n 'nm0000565': '1801/rm3343199744',\n 'nm0000566': '2653/rm2080253952',\n 'nm0000568': '2693/rm1239027456',\n 'nm0000569': '3622/rm3451859456',\n 'nm0000570': '3187/rm767861504',\n 'nm0000571': '2882/rm966887424',\n 'nm0000572': '3491/rm2409254656',\n 'nm0000573': '3734/rm3026279680',\n 'nm0000574': '0057/rm3372390912',\n 'nm0000575': '2492/rm2899219200',\n 'nm0000576': '1622/rm4217178112',\n 'nm0000577': '0382/rm1072500736',\n 'nm0000578': '1819/rm1797749504',\n 'nm0000579': '2301/rm3103189248',\n 'nm0000580': '3326/rm875504384',\n 'nm0000581': '1763/rm940945408',\n 'nm0000582': '2341/rm693833472',\n 'nm0000583': '3351/rm3881384704',\n 'nm0000584': '3650/rm1483036416',\n 'nm0000585': '1916/rm2065603840',\n 'nm0000586': '2439/rm2477230080',\n 'nm0000587': '3788/rm3549789184',\n 'nm0000588': '1675/rm3225691392',\n 'nm0000589': '3686/rm3318821888',\n 'nm0000590': '0884/rm3282975232',\n 'nm0000591': '0230/rm2132625664',\n 'nm0000592': '3725/rm3004306688',\n 'nm0000593': '2241/rm2141108992',\n 'nm0000594': '2818/rm2127729152',\n 'nm0000595': '3792/rm1022498560',\n 'nm0000596': '1527/rm4111472640',\n 'nm0000597': '1796/rm571684608',\n 'nm0000598': '3703/rm544345600',\n 'nm0000599': '0289/rm1441739264',\n 'nm0000600': '3676/rm3305868800',\n 'nm0000601': '2687/rm4096629504',\n 'nm0000602': '3761/rm2528252672',\n 'nm0000603': '1904/rm633246208',\n 'nm0000604': '3807/rm3830469632',\n 'nm0000605': '0746/rm2678365952',\n 'nm0000606': '2640/rm398524928',\n 'nm0000607': '3215/rm2856323584',\n 'nm0000608': '1298/rm983370240',\n 'nm0000609': '3574/rm443630080',\n 'nm0000610': '2239/rm3605062400',\n 'nm0000611': '1341/rm4163959296',\n 'nm0000612': '1430/rm4156956416',\n 'nm0000613': '2800/rm1290341120',\n 'nm0000614': '0080/rm903325952',\n 'nm0000615': '0172/rm392696064',\n 'nm0000616': '1549/rm2143399168',\n 'nm0000617': '1687/rm914566144',\n 'nm0000618': '0948/rm2462578432',\n 'nm0000619': '2245/rm3758091776',\n 'nm0000620': '1161/rm3785166848',\n 'nm0000621': '3205/rm623341824',\n 'nm0000622': '3652/rm1895783680',\n 'nm0000623': '0197/rm3768211456',\n 'nm0000624': '1943/rm3335080960',\n 'nm0000625': '3710/rm1271020544',\n 'nm0000626': '1580/rm229873920',\n 'nm0000627': '0850/rm3583680256',\n 'nm0000628': '1076/rm3327630336',\n 'nm0000629': '0436/rm1912313856',\n 'nm0000630': '0832/rm3352657152',\n 'nm0000631': '3411/rm1408172800',\n 'nm0000632': '2200/rm850138624',\n 'nm0000633': '2291/rm1317319936',\n 'nm0000634': '2745/rm2963840768',\n 'nm0000637': '2464/rm3683270656',\n 'nm0000638': '2329/rm475046400',\n 'nm0000639': '2653/rm1847971584',\n 'nm0000640': '0573/rm3952771584',\n 'nm0000641': '3471/rm3901097728',\n 'nm0000642': '2353/rm2831408384',\n 'nm0000643': '1101/rm3373464064',\n 'nm0000644': '2503/rm3784397312',\n 'nm0000645': '0190/rm2564939776',\n 'nm0000646': '1592/rm477453568',\n 'nm0000647': '1684/rm938572544',\n 'nm0000648': '2904/rm304046592',\n 'nm0000649': '0571/rm603171840',\n 'nm0000650': '1602/rm1046313728',\n 'nm0000651': '2815/rm3753081600',\n 'nm0000652': '0679/rm57992960',\n 'nm0000653': '2754/rm2229444096',\n 'nm0000654': '0285/rm4278192384',\n 'nm0000655': '2207/rm3430129152',\n 'nm0000656': '0322/rm281354240',\n 'nm0000657': '1015/rm610573568',\n 'nm0000658': '1992/rm3040784384',\n 'nm0000659': '3327/rm1590879232',\n 'nm0000660': '1723/rm1012626688',\n 'nm0000661': '1923/rm3414663168',\n 'nm0000662': '3604/rm1274158848',\n 'nm0000663': '3846/rm3345029888',\n 'nm0000664': '3830/rm1343420928',\n 'nm0000665': '0771/rm2732057856',\n 'nm0000666': '3398/rm309070592',\n 'nm0000667': '2037/rm3152230656',\n 'nm0000668': '0504/rm199900928',\n 'nm0000669': '2083/rm68128000',\n 'nm0000670': '1941/rm4216273152',\n 'nm0000671': '2663/rm1091964160',\n 'nm0000672': '1007/rm800935424',\n 'nm0000673': '2552/rm2463332608',\n 'nm0000674': '2863/rm3353816064',\n 'nm0000675': '3471/rm783095552',\n 'nm0000676': '1648/rm2664569856',\n 'nm0000677': '0746/rm1599510784',\n 'nm0000678': '1548/rm998184704',\n 'nm0000679': '0532/rm58493184',\n 'nm0000680': '2416/rm3257976320',\n 'nm0000681': '2625/rm357113600',\n 'nm0000682': '1431/rm2308983808',\n 'nm0000683': '3324/rm0109312',\n 'nm0000684': '2984/rm3824849664',\n 'nm0000685': '1619/rm4066725376',\n 'nm0000686': '1312/rm1733565952',\n 'nm0000687': '2005/rm3319019264',\n 'nm0000688': '1196/rm3569807616',\n 'nm0000689': '1191/rm3912218880',\n 'nm0000690': '0130/rm3504333312',\n 'nm0000691': '1012/rm1337993728',\n 'nm0000692': '0467/rm1274555136',\n 'nm0000693': '3718/rm1146685952',\n 'nm0000694': '3027/rm2574683648',\n 'nm0000695': '1712/rm3414832384',\n 'nm0000696': '2721/rm3331166976',\n 'nm0000697': '3196/rm290907392',\n 'nm0000698': '1047/rm1135809024',\n 'nm0000699': '3589/rm1990902272',\n 'nm0000700': '0702/rm4103182336',\n 'nm0000701': '3544/rm2841895936',\n 'nm0000702': '1935/rm4105920000',\n 'nm0000703': '1804/rm2842190592',\n 'nm0000704': '3484/rm1753452544',\n 'nm0000705': '3254/rm2314128384',\n 'nm0000706': '1307/rm312290048',\n 'nm0000707': '0254/rm1179161088',\n 'nm0000708': '1928/rm1221669632',\n 'nm0000709': '0978/rm773426944',\n 'nm0000711': '1049/rm4008155392',\n 'nm0000714': '0412/rm2279161344',\n 'nm0000715': '3400/rm3236281088',\n 'nm0000716': '1743/rm4216559616',\n 'nm0000717': '3655/rm3164032512',\n 'nm0000718': '0972/rm2493356288',\n 'nm0000719': '3828/rm3319154688',\n 'nm0000720': '0634/rm3723596288',\n 'nm0000721': '2724/rm2404213504',\n 'nm0000722': '3700/rm567054848',\n 'nm0000723': '3803/rm1131230208',\n 'nm0000724': '3453/rm3254098688',\n 'nm0000725': '3278/rm2509312000',\n 'nm0000726': '0630/rm3038085632',\n 'nm0000727': '1624/rm3845557760',\n 'nm0000728': '0888/rm1452428544',\n 'nm0000729': '2732/rm3675588864',\n 'nm0000730': '0965/rm1998921216',\n 'nm0000731': '3079/rm1235686656',\n 'nm0000732': '3508/rm425893376',\n 'nm0000733': '3547/rm2345667328',\n 'nm0000734': '3132/rm3511945216',\n 'nm0000736': '0195/rm2516348672',\n 'nm0000737': '3549/rm850305536',\n 'nm0000738': '0414/rm1466942976',\n 'nm0000739': '2528/rm1476376576',\n 'nm0000740': '0941/rm2084228096',\n 'nm0000741': '2502/rm3706369024',\n 'nm0000742': '3841/rm345674240',\n 'nm0000743': '3547/rm1581422592',\n 'nm0000744': '1345/rm4205933312',\n 'nm0000745': '2476/rm1207683584',\n 'nm0000746': '0109/rm679784192',\n 'nm0000747': '2626/rm1097373696',\n 'nm0000748': '0380/rm1130891520',\n 'nm0000749': '1654/rm2838639872',\n 'nm0000750': '1246/rm905796864',\n 'nm0000751': '3815/rm934778880',\n 'nm0000752': '0687/rm1835898880',\n 'nm0000754': '3858/rm1763069440',\n 'nm0000755': '0495/rm415852544',\n 'nm0000756': '0304/rm1196953856',\n 'nm0000757': '3523/rm869102592',\n 'nm0000758': '0501/rm3653046528',\n 'nm0000759': '3181/rm1865873664',\n 'nm0000760': '1263/rm4197984000',\n 'nm0000761': '0334/rm1097672192',\n 'nm0000762': '1660/rm3419939840',\n 'nm0000763': '1106/rm2410158336',\n 'nm0000764': '3225/rm2723235840',\n 'nm0000765': '1012/rm2289373440',\n 'nm0000766': '2939/rm194018304',\n 'nm0000767': '1992/rm103132160',\n 'nm0000768': '3450/rm3550624768',\n 'nm0000769': '0386/rm3696052480',\n 'nm0000770': '3710/rm4122590464',\n 'nm0000771': '0711/rm320642560',\n 'nm0000772': '1548/rm2169250048',\n 'nm0000773': '0345/rm1577196800',\n 'nm0000774': '1313/rm1818037760',\n 'nm0000775': '3396/rm2180047104',\n 'nm0000776': '1938/rm1310038016',\n 'nm0000777': '0038/rm2294781952',\n 'nm0000778': '3920/rm1938332160',\n 'nm0000779': '3297/rm3531263232',\n 'nm0000780': '2176/rm3523958272',\n 'nm0000781': '0679/rm3403241984',\n 'nm0000782': '1708/rm2728397568',\n 'nm0000783': '3897/rm1089220608',\n 'nm0000784': '0068/rm1051804672',\n 'nm0000786': '2253/rm1022990592',\n 'nm0000787': '2031/rm2097846016',\n 'nm0000788': '3070/rm4145057280',\n 'nm0000789': '1825/rm3334361088',\n 'nm0000790': '1928/rm4054422272',\n 'nm0000791': '0408/rm4094252544',\n 'nm0000792': '1226/rm779788544',\n 'nm0000793': '3738/rm2605535744',\n 'nm0000794': '3797/rm1411006208',\n 'nm0000795': '3369/rm3292075776',\n 'nm0000796': '0396/rm3202099712',\n 'nm0000797': '0348/rm4051532544',\n 'nm0000798': '2303/rm2719650304',\n 'nm0000799': '2538/rm3976998144',\n 'nm0000800': '0117/rm3316894464',\n 'nm0000801': '2953/rm3182835712',\n 'nm0000802': '3761/rm704336128',\n 'nm0000803': '2786/rm2812402944',\n 'nm0000804': '1503/rm2395840000',\n 'nm0000805': '2666/rm1822165248',\n 'nm0000806': '1084/rm3736901888',\n 'nm0000808': '0777/rm1253580800',\n 'nm0000809': '1172/rm2347201536',\n 'nm0000810': '0065/rm576971008',\n 'nm0000811': '0722/rm3514842368',\n 'nm0000812': '0909/rm423800576',\n 'nm0000813': '1214/rm1281645824',\n 'nm0000814': '3529/rm3231947264',\n 'nm0000815': '1629/rm974294784',\n 'nm0000816': '0769/rm2667604736',\n 'nm0000817': '1012/rm3361985024',\n 'nm0000818': '3285/rm1710029568',\n 'nm0000819': '0656/rm2724485120',\n 'nm0000820': '3516/rm2655992320',\n 'nm0000821': '1831/rm3605795584',\n 'nm0000822': '3457/rm628844800',\n 'nm0000823': '0218/rm2355321856',\n 'nm0000824': '3391/rm2852533760',\n 'nm0000825': '1435/rm3197341440',\n 'nm0000826': '3490/rm3847788544',\n 'nm0000827': '3711/rm4008022016',\n 'nm0000828': '3104/rm933009408',\n 'nm0000829': '3468/rm565483776',\n 'nm0000830': '0892/rm2373491968',\n 'nm0000832': '1659/rm1125562368',\n 'nm0000833': '3672/rm1945147904',\n 'nm0000834': '1212/rm404113408',\n 'nm0000836': '1085/rm2167149056',\n 'nm0000837': '1142/rm3470149632',\n 'nm0000838': '0009/rm1928892928',\n 'nm0000839': '2188/rm1585777920',\n 'nm0000840': '2064/rm2087666688',\n 'nm0000841': '2418/rm1546139136',\n 'nm0000842': '0893/rm444176384',\n 'nm0000843': '2980/rm1787037952',\n 'nm0000844': '2197/rm2113890304',\n 'nm0000845': '3279/rm4232142080',\n 'nm0000846': '0787/rm348797696',\n 'nm0000847': '0483/rm2323858944',\n 'nm0000848': '2734/rm3173711104',\n 'nm0000849': '0773/rm3935054592',\n 'nm0000850': '1337/rm4026995456',\n 'nm0000851': '1139/rm365196544',\n 'nm0000852': '3358/rm2946832896',\n 'nm0000853': '3629/rm774655232',\n 'nm0000854': '3778/rm479890944',\n 'nm0000855': '0924/rm1559532288',\n 'nm0000856': '1559/rm2721122816',\n 'nm0000857': '3705/rm1779182080',\n 'nm0000858': '3229/rm4173169920',\n 'nm0000859': '3118/rm1701847040',\n 'nm0000860': '1505/rm2072619520',\n 'nm0000861': '0323/rm4091854336',\n 'nm0000862': '0221/rm495561216',\n 'nm0000863': '2030/rm1883281408',\n 'nm0000864': '1217/rm207370240',\n 'nm0000865': '2904/rm1479481600',\n 'nm0000867': '1448/rm3272081664',\n 'nm0000868': '3523/rm1017616640',\n 'nm0000869': '1711/rm3868474368',\n 'nm0000870': '1992/rm4041896704',\n 'nm0000871': '0670/rm4286859008',\n 'nm0000872': '1368/rm3525546752',\n 'nm0000873': '3438/rm2284948992',\n 'nm0000874': '2229/rm2125369856',\n 'nm0000876': '0652/rm4264205056',\n 'nm0000877': '3910/rm2542432768',\n 'nm0000878': '1881/rm3406339072',\n 'nm0000879': '2294/rm1154141184',\n 'nm0000880': '0764/rm1416468480',\n 'nm0000881': '1797/rm4129921024',\n 'nm0000882': '1150/rm3994889472',\n 'nm0000883': '0033/rm3478596864',\n 'nm0000884': '2590/rm3092582144',\n 'nm0000885': '3559/rm507744000',\n 'nm0000886': '1892/rm3037402368',\n 'nm0000887': '3193/rm3884070656',\n 'nm0000888': '2196/rm226968064',\n 'nm0000889': '3011/rm276584448',\n 'nm0000890': '2585/rm486734336',\n 'nm0000891': '1912/rm980355328',\n 'nm0000892': '2008/rm300078848',\n 'nm0000893': '3245/rm1879742208',\n 'nm0000894': '0712/rm2132738560',\n 'nm0000895': '2529/rm289250560',\n 'nm0000896': '0132/rm2201871360',\n 'nm0000897': '3060/rm2268864256',\n 'nm0000898': '1888/rm3838811904',\n 'nm0000899': '3175/rm987245056',\n 'nm0000900': '0266/rm478912768',\n 'nm0000901': '2969/rm1695358976',\n 'nm0000902': '2286/rm1544781312',\n 'nm0000903': '3739/rm2668599296',\n 'nm0000904': '0928/rm478216448',\n 'nm0000905': '2093/rm3312255232',\n 'nm0000906': '2320/rm2898630912',\n 'nm0000907': '1779/rm1192277248',\n 'nm0000908': '3048/rm165544704',\n 'nm0000909': '3561/rm268766720',\n 'nm0000910': '0510/rm2723101184',\n 'nm0000911': '2656/rm3967593216',\n 'nm0000912': '3575/rm1020727040',\n 'nm0000913': '3807/rm1756304384',\n 'nm0000914': '3314/rm2338297856',\n 'nm0000915': '0111/rm695303936',\n 'nm0000916': '2464/rm3503717120',\n 'nm0000917': '3839/rm3568181248',\n 'nm0000918': '2389/rm2954588672',\n 'nm0000919': '1971/rm4142674432',\n 'nm0000920': '3673/rm1939943168',\n 'nm0000922': '2592/rm3629689600',\n 'nm0000923': '2802/rm431118336',\n 'nm0000924': '0787/rm3901822208',\n 'nm0000925': '3563/rm832667904',\n 'nm0000926': '0000/rm3886192896',\n 'nm0000927': '1068/rm454767872',\n 'nm0000928': '1264/rm2949916416',\n 'nm0000929': '0532/rm4047769088',\n 'nm0000930': '3630/rm2830724608',\n 'nm0000931': '2217/rm3993056256',\n 'nm0000932': '3197/rm2028217088',\n 'nm0000933': '1720/rm4267639040',\n 'nm0000934': '2674/rm2248196608',\n 'nm0000935': '0011/rm2902894336',\n 'nm0000936': '2348/rm1392717824',\n 'nm0000937': '1014/rm763453696',\n 'nm0000938': '0819/rm1590428160',\n 'nm0000940': '0260/rm1073447680',\n 'nm0000941': '3597/rm3570973440',\n 'nm0000942': '3040/rm2791872512',\n 'nm0000943': '1547/rm3634107904',\n 'nm0000944': '2825/rm1305254144',\n 'nm0000945': '0156/rm1617397504',\n 'nm0000946': '1831/rm2371971328',\n 'nm0000947': '3100/rm750183424',\n 'nm0000948': '3870/rm585239552',\n 'nm0000949': '3818/rm1672092416',\n 'nm0000950': '3821/rm1484973312',\n 'nm0000951': '0648/rm228988672',\n 'nm0000952': '0613/rm480024576',\n 'nm0000953': '0119/rm2858585344',\n 'nm0000954': '3029/rm965094912',\n 'nm0000955': '3244/rm1072668416',\n 'nm0000956': '1641/rm2305004544',\n 'nm0000957': '2080/rm1251318528',\n 'nm0000958': '2933/rm2510267904',\n 'nm0000959': '3211/rm4221374464',\n 'nm0000960': '2628/rm238439936',\n 'nm0000961': '3627/rm332732672',\n 'nm0000962': '1173/rm798691584',\n 'nm0000963': '0854/rm1598688512',\n 'nm0000964': '3071/rm509492992',\n 'nm0000965': '2222/rm2072546816',\n 'nm0000966': '0914/rm3205011968',\n 'nm0000967': '2955/rm3956814848',\n 'nm0000968': '0108/rm2172608256',\n 'nm0000969': '1269/rm2036074752',\n 'nm0000970': '0920/rm2995303680',\n 'nm0000971': '2881/rm2565481984',\n 'nm0000972': '0399/rm2995237376',\n 'nm0000973': '1634/rm2084721408',\n 'nm0000974': '0160/rm3660143872',\n 'nm0000975': '3418/rm509310720',\n 'nm0000976': '1747/rm2872771072',\n 'nm0000977': '1763/rm1316606464',\n 'nm0000978': '2335/rm1088893952',\n 'nm0000979': '1543/rm2025420032',\n 'nm0000980': '1272/rm3009960448',\n 'nm0000981': '1286/rm138119936',\n 'nm0000982': '2887/rm3258509568',\n 'nm0000983': '1399/rm1454906880',\n 'nm0000984': '2572/rm1285938688',\n 'nm0000985': '1114/rm2284083456',\n 'nm0000986': '3401/rm3610980352',\n 'nm0000987': '2467/rm179372544',\n 'nm0000988': '1851/rm4146698240',\n 'nm0000989': '1355/rm364663040',\n 'nm0000990': '3167/rm1358956032',\n 'nm0000991': '1658/rm2331050496',\n 'nm0000992': '3196/rm3105428480',\n 'nm0000993': '2808/rm2313234688',\n 'nm0000994': '2893/rm2859667712',\n 'nm0000995': '0649/rm2301918720',\n 'nm0000996': '2809/rm3387321856',\n 'nm0000997': '3608/rm1569402368',\n 'nm0000998': '3391/rm2808531456',\n 'nm0000999': '2090/rm3785077248',\n 'nm0001001': '2232/rm3567257856',\n 'nm0001002': '3440/rm2117822976',\n 'nm0001003': '2074/rm2706611712',\n 'nm0001004': '3191/rm3784095488',\n 'nm0001005': '3797/rm1467910400',\n 'nm0001006': '0836/rm4120644096',\n 'nm0001007': '2161/rm2379364352',\n 'nm0001008': '3749/rm1070326784',\n 'nm0001009': '1833/rm1778686464',\n 'nm0001010': '1654/rm2172093440',\n 'nm0001011': '3407/rm2548246784',\n 'nm0001012': '3303/rm1609833984',\n 'nm0001013': '3444/rm1668237568',\n 'nm0001014': '0200/rm3731304192',\n 'nm0001015': '2183/rm4208294144',\n 'nm0001016': '1559/rm3853981440',\n 'nm0001017': '2078/rm3271441152',\n 'nm0001018': '3694/rm1399510784',\n 'nm0001019': '1055/rm3282613760',\n 'nm0001020': '2990/rm2481666560',\n 'nm0001021': '3240/rm3020132864',\n 'nm0001022': '0337/rm4069528832',\n 'nm0001023': '0976/rm2509442304',\n 'nm0001024': '0220/rm3990133248',\n 'nm0001025': '0918/rm1843077376',\n 'nm0001026': '0837/rm408557824',\n 'nm0001027': '3639/rm929994752',\n 'nm0001028': '0887/rm3037273600',\n 'nm0001029': '3415/rm2900967168',\n ...}"
     },
     "execution_count": 205,
     "metadata": {},
     "output_type": "execute_result"
    }
   ],
   "source": [
    "df_out.img_id.to_dict()"
   ],
   "metadata": {
    "collapsed": false
   }
  },
  {
   "cell_type": "code",
   "execution_count": 206,
   "outputs": [],
   "source": [
    "import json\n",
    "with open('imdb2movienet.json', 'w') as fp:\n",
    "    json.dump(df_out.img_id.to_dict(), fp)"
   ],
   "metadata": {
    "collapsed": false
   }
  },
  {
   "cell_type": "code",
   "execution_count": 4,
   "outputs": [],
   "source": [
    "a = json.load(open('imdb2movienet.json', 'r'))"
   ],
   "metadata": {
    "collapsed": false
   }
  },
  {
   "cell_type": "code",
   "execution_count": 5,
   "outputs": [
    {
     "data": {
      "text/plain": "'3710/rm4122590464'"
     },
     "execution_count": 5,
     "metadata": {},
     "output_type": "execute_result"
    }
   ],
   "source": [
    "a['nm0000770']"
   ],
   "metadata": {
    "collapsed": false
   }
  },
  {
   "cell_type": "code",
   "execution_count": null,
   "outputs": [],
   "source": [],
   "metadata": {
    "collapsed": false
   }
  }
 ],
 "metadata": {
  "kernelspec": {
   "display_name": "Python 3",
   "language": "python",
   "name": "python3"
  },
  "language_info": {
   "codemirror_mode": {
    "name": "ipython",
    "version": 2
   },
   "file_extension": ".py",
   "mimetype": "text/x-python",
   "name": "python",
   "nbconvert_exporter": "python",
   "pygments_lexer": "ipython2",
   "version": "2.7.6"
  }
 },
 "nbformat": 4,
 "nbformat_minor": 0
}
