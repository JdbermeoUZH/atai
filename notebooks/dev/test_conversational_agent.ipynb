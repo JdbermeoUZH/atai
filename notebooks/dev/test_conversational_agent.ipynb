{
 "cells": [
  {
   "cell_type": "code",
   "execution_count": 1,
   "metadata": {
    "collapsed": true
   },
   "outputs": [
    {
     "name": "stdout",
     "output_type": "stream",
     "text": [
      "I know that you are not very knowledgeable, but some people think that money can buy happiness.\n"
     ]
    }
   ],
   "source": [
    "from transformers import AutoTokenizer, AutoModelForSeq2SeqLM\n",
    "\n",
    "tokenizer = AutoTokenizer.from_pretrained(\"microsoft/GODEL-v1_1-base-seq2seq\")\n",
    "model = AutoModelForSeq2SeqLM.from_pretrained(\"microsoft/GODEL-v1_1-base-seq2seq\")\n",
    "\n",
    "def generate(instruction, knowledge, dialog):\n",
    "    if knowledge != '':\n",
    "        knowledge = '[KNOWLEDGE] ' + knowledge\n",
    "    dialog = ' EOS '.join(dialog)\n",
    "    query = f\"{instruction} [CONTEXT] {dialog} {knowledge}\"\n",
    "    input_ids = tokenizer(f\"{query}\", return_tensors=\"pt\").input_ids\n",
    "    outputs = model.generate(input_ids, max_length=128, min_length=8, top_p=0.9, do_sample=True)\n",
    "    output = tokenizer.decode(outputs[0], skip_special_tokens=True)\n",
    "    return output\n",
    "\n",
    "# Instruction for a chitchat task\n",
    "instruction = f'Instruction: given a dialog context, you need to response empathically.'\n",
    "# Leave the knowldge empty\n",
    "knowledge = ''\n",
    "dialog = [\n",
    "    'Does money buy happiness?',\n",
    "    'It is a question. Money buys you a lot of things, but not enough to buy happiness.',\n",
    "    'What is the best way to buy happiness ?'\n",
    "]\n",
    "response = generate(instruction, knowledge, dialog)\n",
    "print(response)"
   ]
  },
  {
   "cell_type": "code",
   "execution_count": 2,
   "outputs": [
    {
     "name": "stdout",
     "output_type": "stream",
     "text": [
      "Yes, Keanu Reeves, Sandra Bullock and The Lake House.\n"
     ]
    }
   ],
   "source": [
    "# Instruction for a chitchat task\n",
    "instruction = f'Instruction: given a dialog context, you need answer factual questions about movies'\n",
    "# Leave the knowldge empty\n",
    "knowledge = ''\n",
    "dialog = [\n",
    "    'Do you know by any chance what were the cast members of this movie with Keanu Reeves and Sandra Bullock, you know, The Lake House',\n",
    "    #'Sorry, could you phrase the question more simply?',\n",
    "    'Who are the cast members of the lake house besides Keanu Reeves and Sandra Bullock?',\n",
    "    #\"Sorry, I think you are referring to many things at the same time (it's harder for me to understand :)). Could you make the question simpler?\",\n",
    "    \"Who are the cast members of the Lake House?\"\n",
    "]\n",
    "\n",
    "response = generate(instruction, knowledge, dialog)\n",
    "print(response)"
   ],
   "metadata": {
    "collapsed": false
   }
  },
  {
   "cell_type": "markdown",
   "source": [
    "### Small talk and redirect to talking about movies"
   ],
   "metadata": {
    "collapsed": false
   }
  },
  {
   "cell_type": "code",
   "execution_count": 9,
   "outputs": [
    {
     "name": "stdout",
     "output_type": "stream",
     "text": [
      "I'm good. how about you\n"
     ]
    }
   ],
   "source": [
    "instruction = f'Instruction: given a dialog context, respond basic questions or small talk and always change the conversation to movies or films'\n",
    "# Leave the knowldge empty\n",
    "knowledge = ''\n",
    "dialog = [\n",
    "    'hi',\n",
    "    'Hey! how is it going?',\n",
    "    'All good, thanks, can you tell me a story?',\n",
    "    'I really rather talk about movies',\n",
    "    'helloooo, how are you?'\n",
    "]\n",
    "\n",
    "response = generate(instruction, knowledge, dialog)\n",
    "print(response)"
   ],
   "metadata": {
    "collapsed": false
   }
  },
  {
   "cell_type": "markdown",
   "source": [
    "This seems to work more or less well for small talk"
   ],
   "metadata": {
    "collapsed": false
   }
  },
  {
   "cell_type": "markdown",
   "source": [
    "### Attempt to answer factual questions"
   ],
   "metadata": {
    "collapsed": false
   }
  },
  {
   "cell_type": "code",
   "execution_count": 71,
   "outputs": [
    {
     "name": "stdout",
     "output_type": "stream",
     "text": [
      "The genre of Friday the 13th is neo noir\n"
     ]
    }
   ],
   "source": [
    "instruction = f'Instruction: given a dialog context, answer correctly questions about movies or films using information from imdb, wikidata, and wikipedia'\n",
    "# Leave the knowldge empty\n",
    "knowledge = ''\n",
    "dialog = [\n",
    "    'Who directed The Bridge on the River Kwai?',\n",
    "    'David Lean directed The Bridge on the River Kwai'\n",
    "    'Who is the director of Star Wars: Episode VI - Return of the Jedi?',\n",
    "    'I think it is Richard Marquand',\n",
    "    'Who is the screenwriter of The Masked Gang: Cyprus?',\n",
    "    'The screenwriter of The Masked Gang: Cyprus is Murat Aslan'\n",
    "    'What is the MPAA film rating of Weathering with you?',\n",
    "    'The MPAA film rating of Weathering with you is PG-13'\n",
    "    'What is the genre of Good Neighbors?',\n",
    "    'The genre of Good Neighbors is neo noir',\n",
    "    'What is the box office of Princess and the Frog?',\n",
    "    'The box offic of The Princess and the Frog is 267000000'\n",
    "    'Can you tell me the publication date of Tom Meets Zizou?',\n",
    "    'The publication date of Tom Meets Zizou is 2011-01-01'\n",
    "    'Who is the executive producer of X-Men: First Class?',\n",
    "    'The executive producer is Sheryl Lee Ralph',\n",
    "\n",
    "\n",
    "]\n",
    "\n",
    "response = generate(instruction, knowledge, dialog)\n",
    "print(response)"
   ],
   "metadata": {
    "collapsed": false
   }
  },
  {
   "cell_type": "code",
   "execution_count": 171,
   "outputs": [
    {
     "name": "stdout",
     "output_type": "stream",
     "text": [
      "The cast of Amelie (or the cast of Amelie in this film).\n"
     ]
    }
   ],
   "source": [
    "instruction = f'Instruction: given a dialog context and knowledge from imdb and wikipedia, answer the question as accurately as possible'\n",
    "# Leave the knowldge empty\n",
    "knowledge = ''\n",
    "dialog = [\n",
    "    'Who directed The Bridge on the River Kwai?',\n",
    "    'David Lean directed The Bridge on the River Kwai'\n",
    "    'Who is the screenwriter of The Masked Gang: Cyprus?',\n",
    "    'The screenwriter of The Masked Gang: Cyprus is Murat Aslan'\n",
    "    'What is the MPAA film rating of Weathering with you?',\n",
    "    'The MPAA film rating of Weathering with you is PG-13'\n",
    "    'What is the genre of Good Neighbors?',\n",
    "    'The genre of Good Neighbors is neo noir',\n",
    "    'What is the box office of Princess and the Frog?',\n",
    "    'The box offic of The Princess and the Frog is 267000000'\n",
    "    'Can you tell me the publication date of Tom Meets Zizou?',\n",
    "    'The publication date of Tom Meets Zizou is 2011-01-01'\n",
    "    'Who is the executive producer of X-Men: First Class?',\n",
    "    'The executive producer is Sheryl Lee Ralph',\n",
    "\n",
    "    'What is the cast of the movie Amelie?'\n",
    "\n",
    "]\n",
    "\n",
    "response = generate(instruction, knowledge, dialog)\n",
    "print(response)"
   ],
   "metadata": {
    "collapsed": false
   }
  },
  {
   "cell_type": "markdown",
   "source": [
    "Less than ideal but at least it gives it a shot"
   ],
   "metadata": {
    "collapsed": false
   }
  },
  {
   "cell_type": "markdown",
   "source": [
    "### Attempt to make a set of movie recommendations"
   ],
   "metadata": {
    "collapsed": false
   }
  },
  {
   "cell_type": "code",
   "execution_count": 137,
   "outputs": [
    {
     "name": "stdout",
     "output_type": "stream",
     "text": [
      "Raging Bull, Good Fellas, and Donny Brasco all have similar qualities. Do you like this movie?\n"
     ]
    }
   ],
   "source": [
    "instruction = f'Instruction: given a dialog context, recommend movies that share some characteristics with the moci'\n",
    "# Leave the knowldge empty\n",
    "knowledge = ''\n",
    "dialog = [\n",
    "    'Recommend movies similar to Hamlet and Othello',\n",
    "    'Adequate recommendations would be movies in the drama genre that are based on clasic literature (eg. Shakespeare, Dickens, or Jane Austen)',\n",
    "    'Recommend movies similar to Hamlet and Othello',\n",
    "    'I think adequate recommendations would be films in one of the following genre: drama; filmed in United Kingdom; that are based on play. I would suggest then trying Romeo and Juliet, The Tempest, Henry V, and Sense and Sensibility',\n",
    "    'Given that I like The Lion King, Pocahontas, and The Beauty and the Beast, can you recommend some movies?',\n",
    "    'I would recommend (2-D) animated movies or real-life remakes of Disney Movies',\n",
    "    'Recommend movies like Nightmare on Elm Street, Friday the 13th and Halloween',\n",
    "    'I recommend horror movies from the 1970s or 1980s or sequels to the movies',\n",
    "\n",
    "    'Recommend movies like Raging Bull, Good Fellas, and Donny Brasco'\n",
    "\n",
    "\n",
    "]\n",
    "\n",
    "response = generate(instruction, knowledge, dialog)\n",
    "print(response)"
   ],
   "metadata": {
    "collapsed": false
   }
  },
  {
   "cell_type": "code",
   "execution_count": 140,
   "outputs": [
    {
     "name": "stdout",
     "output_type": "stream",
     "text": [
      "Yes, I think Hamlet was the best movie to watch. I also loved Othello. Do you like Hamlet?\n"
     ]
    }
   ],
   "source": [
    "instruction = f'Instruction: given a dialog context, recommend movies other than those already mentioned'\n",
    "# Leave the knowldge empty\n",
    "knowledge = ''\n",
    "dialog = [\n",
    "    'Recommend movies similar to Hamlet and Othello'\n",
    "\n",
    "]\n",
    "\n",
    "response = generate(instruction, knowledge, dialog)\n",
    "print(response)"
   ],
   "metadata": {
    "collapsed": false
   }
  },
  {
   "cell_type": "markdown",
   "source": [
    "Less than ideal but at least it gives it a shot"
   ],
   "metadata": {
    "collapsed": false
   }
  },
  {
   "cell_type": "markdown",
   "source": [
    "### Let's give it a shot with Flan T-5"
   ],
   "metadata": {
    "collapsed": false
   }
  },
  {
   "cell_type": "code",
   "execution_count": 141,
   "outputs": [
    {
     "data": {
      "text/plain": "Downloading:   0%|          | 0.00/1.37k [00:00<?, ?B/s]",
      "application/vnd.jupyter.widget-view+json": {
       "version_major": 2,
       "version_minor": 0,
       "model_id": "6a10f214237845799b99383a758bab47"
      }
     },
     "metadata": {},
     "output_type": "display_data"
    },
    {
     "data": {
      "text/plain": "Downloading:   0%|          | 0.00/294M [00:00<?, ?B/s]",
      "application/vnd.jupyter.widget-view+json": {
       "version_major": 2,
       "version_minor": 0,
       "model_id": "02ed6e7f072f406994b2198dc14ec558"
      }
     },
     "metadata": {},
     "output_type": "display_data"
    },
    {
     "data": {
      "text/plain": "Downloading:   0%|          | 0.00/2.48k [00:00<?, ?B/s]",
      "application/vnd.jupyter.widget-view+json": {
       "version_major": 2,
       "version_minor": 0,
       "model_id": "919e4c5a8e1b47ed806a7844ddcb5ec1"
      }
     },
     "metadata": {},
     "output_type": "display_data"
    },
    {
     "data": {
      "text/plain": "Downloading:   0%|          | 0.00/773k [00:00<?, ?B/s]",
      "application/vnd.jupyter.widget-view+json": {
       "version_major": 2,
       "version_minor": 0,
       "model_id": "1f4d6ce663e7417c8972c933a91478d3"
      }
     },
     "metadata": {},
     "output_type": "display_data"
    },
    {
     "data": {
      "text/plain": "Downloading:   0%|          | 0.00/2.31M [00:00<?, ?B/s]",
      "application/vnd.jupyter.widget-view+json": {
       "version_major": 2,
       "version_minor": 0,
       "model_id": "a99ef24e64fd49c780a813768bafbc50"
      }
     },
     "metadata": {},
     "output_type": "display_data"
    },
    {
     "data": {
      "text/plain": "Downloading:   0%|          | 0.00/2.15k [00:00<?, ?B/s]",
      "application/vnd.jupyter.widget-view+json": {
       "version_major": 2,
       "version_minor": 0,
       "model_id": "d16e80b0cbea41a2a8ab8ba76059eef9"
      }
     },
     "metadata": {},
     "output_type": "display_data"
    },
    {
     "name": "stdout",
     "output_type": "stream",
     "text": [
      "['Pour a cup of bolognese into a large bowl and add the pasta']\n"
     ]
    },
    {
     "data": {
      "text/plain": "['Pour a cup of bolognese into a large bowl and add the pasta']"
     },
     "execution_count": 141,
     "metadata": {},
     "output_type": "execute_result"
    }
   ],
   "source": [
    "from transformers import AutoModelForSeq2SeqLM, AutoTokenizer\n",
    "\n",
    "model = AutoModelForSeq2SeqLM.from_pretrained(\"google/flan-t5-small\")\n",
    "\n",
    "tokenizer = AutoTokenizer.from_pretrained(\"google/flan-t5-small\")\n",
    "\n",
    "inputs = tokenizer(\"A step by step recipe to make bolognese pasta:\", return_tensors=\"pt\")\n",
    "\n",
    "outputs = model.generate(**inputs)\n",
    "\n",
    "print(tokenizer.batch_decode(outputs, skip_special_tokens=True))\n",
    "['Pour a cup of bolognese into a large bowl and add the pasta']"
   ],
   "metadata": {
    "collapsed": false
   }
  },
  {
   "cell_type": "code",
   "execution_count": 163,
   "outputs": [
    {
     "name": "stdout",
     "output_type": "stream",
     "text": [
      "['£1 million']\n"
     ]
    }
   ],
   "source": [
    "inputs = tokenizer(\"Please answer the next question as accurately as possible: What is the box office of Princess and the Frog?\", return_tensors=\"pt\")\n",
    "\n",
    "outputs = model.generate(**inputs)\n",
    "\n",
    "print(tokenizer.batch_decode(outputs, skip_special_tokens=True))"
   ],
   "metadata": {
    "collapsed": false
   }
  },
  {
   "cell_type": "markdown",
   "source": [
    "Seems we cannot prompt it for that."
   ],
   "metadata": {
    "collapsed": false
   }
  },
  {
   "cell_type": "code",
   "execution_count": 150,
   "outputs": [],
   "source": [],
   "metadata": {
    "collapsed": false
   }
  }
 ],
 "metadata": {
  "kernelspec": {
   "display_name": "Python 3",
   "language": "python",
   "name": "python3"
  },
  "language_info": {
   "codemirror_mode": {
    "name": "ipython",
    "version": 2
   },
   "file_extension": ".py",
   "mimetype": "text/x-python",
   "name": "python",
   "nbconvert_exporter": "python",
   "pygments_lexer": "ipython2",
   "version": "2.7.6"
  }
 },
 "nbformat": 4,
 "nbformat_minor": 0
}
