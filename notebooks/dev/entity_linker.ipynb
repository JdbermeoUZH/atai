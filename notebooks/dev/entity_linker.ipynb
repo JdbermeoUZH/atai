{
 "cells": [
  {
   "cell_type": "code",
   "execution_count": 1,
   "metadata": {
    "collapsed": true
   },
   "outputs": [],
   "source": [
    "import os\n",
    "\n",
    "import spacy\n",
    "import rdflib\n",
    "from sklearn.metrics import pairwise_distances"
   ]
  },
  {
   "cell_type": "code",
   "execution_count": 16,
   "outputs": [
    {
     "name": "stdout",
     "output_type": "stream",
     "text": [
      "huggingface/tokenizers: The current process just got forked, after parallelism has already been used. Disabling parallelism to avoid deadlocks...\n",
      "To disable this warning, you can either:\n",
      "\t- Avoid using `tokenizers` before the fork if possible\n",
      "\t- Explicitly set the environment variable TOKENIZERS_PARALLELISM=(true | false)\n",
      "Collecting rdflib\r\n",
      "  Using cached rdflib-6.2.0-py3-none-any.whl (500 kB)\r\n",
      "Collecting isodate\r\n",
      "  Using cached isodate-0.6.1-py2.py3-none-any.whl (41 kB)\r\n",
      "Requirement already satisfied: pyparsing in /home/juanbermeo/anaconda3/envs/ATAI/lib/python3.10/site-packages (from rdflib) (3.0.9)\r\n",
      "Requirement already satisfied: setuptools in /home/juanbermeo/anaconda3/envs/ATAI/lib/python3.10/site-packages (from rdflib) (65.5.0)\r\n",
      "Requirement already satisfied: six in /home/juanbermeo/anaconda3/envs/ATAI/lib/python3.10/site-packages (from isodate->rdflib) (1.16.0)\r\n",
      "Installing collected packages: isodate, rdflib\r\n",
      "Successfully installed isodate-0.6.1 rdflib-6.2.0\r\n"
     ]
    }
   ],
   "source": [
    "!pip install rdflib"
   ],
   "metadata": {
    "collapsed": false
   }
  },
  {
   "cell_type": "code",
   "execution_count": 15,
   "outputs": [
    {
     "name": "stdout",
     "output_type": "stream",
     "text": [
      "huggingface/tokenizers: The current process just got forked, after parallelism has already been used. Disabling parallelism to avoid deadlocks...\n",
      "To disable this warning, you can either:\n",
      "\t- Avoid using `tokenizers` before the fork if possible\n",
      "\t- Explicitly set the environment variable TOKENIZERS_PARALLELISM=(true | false)\n",
      "Collecting en-core-web-sm==3.3.0\r\n",
      "  Downloading https://github.com/explosion/spacy-models/releases/download/en_core_web_sm-3.3.0/en_core_web_sm-3.3.0-py3-none-any.whl (12.8 MB)\r\n",
      "\u001B[2K     \u001B[90m━━━━━━━━━━━━━━━━━━━━━━━━━━━━━━━━━━━━━━━━\u001B[0m \u001B[32m12.8/12.8 MB\u001B[0m \u001B[31m12.2 MB/s\u001B[0m eta \u001B[36m0:00:00\u001B[0m00:01\u001B[0m00:01\u001B[0m\r\n",
      "\u001B[?25hRequirement already satisfied: spacy<3.4.0,>=3.3.0.dev0 in /home/juanbermeo/anaconda3/envs/ATAI/lib/python3.10/site-packages (from en-core-web-sm==3.3.0) (3.3.1)\r\n",
      "Requirement already satisfied: cymem<2.1.0,>=2.0.2 in /home/juanbermeo/anaconda3/envs/ATAI/lib/python3.10/site-packages (from spacy<3.4.0,>=3.3.0.dev0->en-core-web-sm==3.3.0) (2.0.6)\r\n",
      "Requirement already satisfied: wasabi<1.1.0,>=0.9.1 in /home/juanbermeo/anaconda3/envs/ATAI/lib/python3.10/site-packages (from spacy<3.4.0,>=3.3.0.dev0->en-core-web-sm==3.3.0) (0.9.1)\r\n",
      "Requirement already satisfied: pathy>=0.3.5 in /home/juanbermeo/anaconda3/envs/ATAI/lib/python3.10/site-packages (from spacy<3.4.0,>=3.3.0.dev0->en-core-web-sm==3.3.0) (0.6.1)\r\n",
      "Requirement already satisfied: numpy>=1.15.0 in /home/juanbermeo/anaconda3/envs/ATAI/lib/python3.10/site-packages (from spacy<3.4.0,>=3.3.0.dev0->en-core-web-sm==3.3.0) (1.23.4)\r\n",
      "Requirement already satisfied: requests<3.0.0,>=2.13.0 in /home/juanbermeo/anaconda3/envs/ATAI/lib/python3.10/site-packages (from spacy<3.4.0,>=3.3.0.dev0->en-core-web-sm==3.3.0) (2.28.1)\r\n",
      "Requirement already satisfied: murmurhash<1.1.0,>=0.28.0 in /home/juanbermeo/anaconda3/envs/ATAI/lib/python3.10/site-packages (from spacy<3.4.0,>=3.3.0.dev0->en-core-web-sm==3.3.0) (1.0.7)\r\n",
      "Requirement already satisfied: thinc<8.1.0,>=8.0.14 in /home/juanbermeo/anaconda3/envs/ATAI/lib/python3.10/site-packages (from spacy<3.4.0,>=3.3.0.dev0->en-core-web-sm==3.3.0) (8.0.15)\r\n",
      "Requirement already satisfied: spacy-legacy<3.1.0,>=3.0.9 in /home/juanbermeo/anaconda3/envs/ATAI/lib/python3.10/site-packages (from spacy<3.4.0,>=3.3.0.dev0->en-core-web-sm==3.3.0) (3.0.9)\r\n",
      "Requirement already satisfied: srsly<3.0.0,>=2.4.3 in /home/juanbermeo/anaconda3/envs/ATAI/lib/python3.10/site-packages (from spacy<3.4.0,>=3.3.0.dev0->en-core-web-sm==3.3.0) (2.4.3)\r\n",
      "Collecting pydantic!=1.8,!=1.8.1,<1.9.0,>=1.7.4\r\n",
      "  Using cached pydantic-1.8.2-py3-none-any.whl (126 kB)\r\n",
      "Requirement already satisfied: blis<0.8.0,>=0.4.0 in /home/juanbermeo/anaconda3/envs/ATAI/lib/python3.10/site-packages (from spacy<3.4.0,>=3.3.0.dev0->en-core-web-sm==3.3.0) (0.7.7)\r\n",
      "Requirement already satisfied: catalogue<2.1.0,>=2.0.6 in /home/juanbermeo/anaconda3/envs/ATAI/lib/python3.10/site-packages (from spacy<3.4.0,>=3.3.0.dev0->en-core-web-sm==3.3.0) (2.0.7)\r\n",
      "Requirement already satisfied: langcodes<4.0.0,>=3.2.0 in /home/juanbermeo/anaconda3/envs/ATAI/lib/python3.10/site-packages (from spacy<3.4.0,>=3.3.0.dev0->en-core-web-sm==3.3.0) (3.3.0)\r\n",
      "Requirement already satisfied: tqdm<5.0.0,>=4.38.0 in /home/juanbermeo/anaconda3/envs/ATAI/lib/python3.10/site-packages (from spacy<3.4.0,>=3.3.0.dev0->en-core-web-sm==3.3.0) (4.64.1)\r\n",
      "Requirement already satisfied: spacy-loggers<2.0.0,>=1.0.0 in /home/juanbermeo/anaconda3/envs/ATAI/lib/python3.10/site-packages (from spacy<3.4.0,>=3.3.0.dev0->en-core-web-sm==3.3.0) (1.0.1)\r\n",
      "Requirement already satisfied: typer<0.5.0,>=0.3.0 in /home/juanbermeo/anaconda3/envs/ATAI/lib/python3.10/site-packages (from spacy<3.4.0,>=3.3.0.dev0->en-core-web-sm==3.3.0) (0.4.1)\r\n",
      "Requirement already satisfied: packaging>=20.0 in /home/juanbermeo/anaconda3/envs/ATAI/lib/python3.10/site-packages (from spacy<3.4.0,>=3.3.0.dev0->en-core-web-sm==3.3.0) (21.3)\r\n",
      "Requirement already satisfied: preshed<3.1.0,>=3.0.2 in /home/juanbermeo/anaconda3/envs/ATAI/lib/python3.10/site-packages (from spacy<3.4.0,>=3.3.0.dev0->en-core-web-sm==3.3.0) (3.0.6)\r\n",
      "Requirement already satisfied: jinja2 in /home/juanbermeo/anaconda3/envs/ATAI/lib/python3.10/site-packages (from spacy<3.4.0,>=3.3.0.dev0->en-core-web-sm==3.3.0) (3.1.2)\r\n",
      "Requirement already satisfied: setuptools in /home/juanbermeo/anaconda3/envs/ATAI/lib/python3.10/site-packages (from spacy<3.4.0,>=3.3.0.dev0->en-core-web-sm==3.3.0) (65.5.0)\r\n",
      "Requirement already satisfied: pyparsing!=3.0.5,>=2.0.2 in /home/juanbermeo/anaconda3/envs/ATAI/lib/python3.10/site-packages (from packaging>=20.0->spacy<3.4.0,>=3.3.0.dev0->en-core-web-sm==3.3.0) (3.0.9)\r\n",
      "Requirement already satisfied: smart-open<6.0.0,>=5.0.0 in /home/juanbermeo/anaconda3/envs/ATAI/lib/python3.10/site-packages (from pathy>=0.3.5->spacy<3.4.0,>=3.3.0.dev0->en-core-web-sm==3.3.0) (5.2.1)\r\n",
      "Requirement already satisfied: typing-extensions>=3.7.4.3 in /home/juanbermeo/anaconda3/envs/ATAI/lib/python3.10/site-packages (from pydantic!=1.8,!=1.8.1,<1.9.0,>=1.7.4->spacy<3.4.0,>=3.3.0.dev0->en-core-web-sm==3.3.0) (4.3.0)\r\n",
      "Requirement already satisfied: certifi>=2017.4.17 in /home/juanbermeo/anaconda3/envs/ATAI/lib/python3.10/site-packages (from requests<3.0.0,>=2.13.0->spacy<3.4.0,>=3.3.0.dev0->en-core-web-sm==3.3.0) (2022.9.24)\r\n",
      "Requirement already satisfied: idna<4,>=2.5 in /home/juanbermeo/anaconda3/envs/ATAI/lib/python3.10/site-packages (from requests<3.0.0,>=2.13.0->spacy<3.4.0,>=3.3.0.dev0->en-core-web-sm==3.3.0) (3.4)\r\n",
      "Requirement already satisfied: urllib3<1.27,>=1.21.1 in /home/juanbermeo/anaconda3/envs/ATAI/lib/python3.10/site-packages (from requests<3.0.0,>=2.13.0->spacy<3.4.0,>=3.3.0.dev0->en-core-web-sm==3.3.0) (1.26.12)\r\n",
      "Requirement already satisfied: charset-normalizer<3,>=2 in /home/juanbermeo/anaconda3/envs/ATAI/lib/python3.10/site-packages (from requests<3.0.0,>=2.13.0->spacy<3.4.0,>=3.3.0.dev0->en-core-web-sm==3.3.0) (2.0.4)\r\n",
      "Requirement already satisfied: click<9.0.0,>=7.1.1 in /home/juanbermeo/anaconda3/envs/ATAI/lib/python3.10/site-packages (from typer<0.5.0,>=0.3.0->spacy<3.4.0,>=3.3.0.dev0->en-core-web-sm==3.3.0) (8.0.4)\r\n",
      "Requirement already satisfied: MarkupSafe>=2.0 in /home/juanbermeo/anaconda3/envs/ATAI/lib/python3.10/site-packages (from jinja2->spacy<3.4.0,>=3.3.0.dev0->en-core-web-sm==3.3.0) (2.1.1)\r\n",
      "Installing collected packages: pydantic, en-core-web-sm\r\n",
      "  Attempting uninstall: pydantic\r\n",
      "    Found existing installation: pydantic 1.10.2\r\n",
      "    Uninstalling pydantic-1.10.2:\r\n",
      "      Successfully uninstalled pydantic-1.10.2\r\n",
      "Successfully installed en-core-web-sm-3.3.0 pydantic-1.8.2\r\n",
      "\u001B[38;5;2m✔ Download and installation successful\u001B[0m\r\n",
      "You can now load the package via spacy.load('en_core_web_sm')\r\n",
      "huggingface/tokenizers: The current process just got forked, after parallelism has already been used. Disabling parallelism to avoid deadlocks...\n",
      "To disable this warning, you can either:\n",
      "\t- Avoid using `tokenizers` before the fork if possible\n",
      "\t- Explicitly set the environment variable TOKENIZERS_PARALLELISM=(true | false)\n",
      "Collecting en-core-web-trf==3.3.0\r\n",
      "  Downloading https://github.com/explosion/spacy-models/releases/download/en_core_web_trf-3.3.0/en_core_web_trf-3.3.0-py3-none-any.whl (460.3 MB)\r\n",
      "\u001B[2K     \u001B[90m━━━━━━━━━━━━━━━━━━━━━━━━━━━━━━━━━━━━━━━\u001B[0m \u001B[32m460.3/460.3 MB\u001B[0m \u001B[31m3.9 MB/s\u001B[0m eta \u001B[36m0:00:00\u001B[0m00:01\u001B[0m00:01\u001B[0m\r\n",
      "\u001B[?25hRequirement already satisfied: spacy<3.4.0,>=3.3.0.dev0 in /home/juanbermeo/anaconda3/envs/ATAI/lib/python3.10/site-packages (from en-core-web-trf==3.3.0) (3.3.1)\r\n",
      "Collecting spacy-transformers<1.2.0,>=1.1.2\r\n",
      "  Using cached spacy_transformers-1.1.8-py2.py3-none-any.whl (53 kB)\r\n",
      "Requirement already satisfied: tqdm<5.0.0,>=4.38.0 in /home/juanbermeo/anaconda3/envs/ATAI/lib/python3.10/site-packages (from spacy<3.4.0,>=3.3.0.dev0->en-core-web-trf==3.3.0) (4.64.1)\r\n",
      "Requirement already satisfied: numpy>=1.15.0 in /home/juanbermeo/anaconda3/envs/ATAI/lib/python3.10/site-packages (from spacy<3.4.0,>=3.3.0.dev0->en-core-web-trf==3.3.0) (1.23.4)\r\n",
      "Requirement already satisfied: thinc<8.1.0,>=8.0.14 in /home/juanbermeo/anaconda3/envs/ATAI/lib/python3.10/site-packages (from spacy<3.4.0,>=3.3.0.dev0->en-core-web-trf==3.3.0) (8.0.15)\r\n",
      "Requirement already satisfied: blis<0.8.0,>=0.4.0 in /home/juanbermeo/anaconda3/envs/ATAI/lib/python3.10/site-packages (from spacy<3.4.0,>=3.3.0.dev0->en-core-web-trf==3.3.0) (0.7.7)\r\n",
      "Requirement already satisfied: spacy-legacy<3.1.0,>=3.0.9 in /home/juanbermeo/anaconda3/envs/ATAI/lib/python3.10/site-packages (from spacy<3.4.0,>=3.3.0.dev0->en-core-web-trf==3.3.0) (3.0.9)\r\n",
      "Requirement already satisfied: spacy-loggers<2.0.0,>=1.0.0 in /home/juanbermeo/anaconda3/envs/ATAI/lib/python3.10/site-packages (from spacy<3.4.0,>=3.3.0.dev0->en-core-web-trf==3.3.0) (1.0.1)\r\n",
      "Requirement already satisfied: requests<3.0.0,>=2.13.0 in /home/juanbermeo/anaconda3/envs/ATAI/lib/python3.10/site-packages (from spacy<3.4.0,>=3.3.0.dev0->en-core-web-trf==3.3.0) (2.28.1)\r\n",
      "Requirement already satisfied: murmurhash<1.1.0,>=0.28.0 in /home/juanbermeo/anaconda3/envs/ATAI/lib/python3.10/site-packages (from spacy<3.4.0,>=3.3.0.dev0->en-core-web-trf==3.3.0) (1.0.7)\r\n",
      "Requirement already satisfied: catalogue<2.1.0,>=2.0.6 in /home/juanbermeo/anaconda3/envs/ATAI/lib/python3.10/site-packages (from spacy<3.4.0,>=3.3.0.dev0->en-core-web-trf==3.3.0) (2.0.7)\r\n",
      "Requirement already satisfied: jinja2 in /home/juanbermeo/anaconda3/envs/ATAI/lib/python3.10/site-packages (from spacy<3.4.0,>=3.3.0.dev0->en-core-web-trf==3.3.0) (3.1.2)\r\n",
      "Requirement already satisfied: wasabi<1.1.0,>=0.9.1 in /home/juanbermeo/anaconda3/envs/ATAI/lib/python3.10/site-packages (from spacy<3.4.0,>=3.3.0.dev0->en-core-web-trf==3.3.0) (0.9.1)\r\n",
      "Requirement already satisfied: preshed<3.1.0,>=3.0.2 in /home/juanbermeo/anaconda3/envs/ATAI/lib/python3.10/site-packages (from spacy<3.4.0,>=3.3.0.dev0->en-core-web-trf==3.3.0) (3.0.6)\r\n",
      "Requirement already satisfied: srsly<3.0.0,>=2.4.3 in /home/juanbermeo/anaconda3/envs/ATAI/lib/python3.10/site-packages (from spacy<3.4.0,>=3.3.0.dev0->en-core-web-trf==3.3.0) (2.4.3)\r\n",
      "Requirement already satisfied: setuptools in /home/juanbermeo/anaconda3/envs/ATAI/lib/python3.10/site-packages (from spacy<3.4.0,>=3.3.0.dev0->en-core-web-trf==3.3.0) (65.5.0)\r\n",
      "Requirement already satisfied: cymem<2.1.0,>=2.0.2 in /home/juanbermeo/anaconda3/envs/ATAI/lib/python3.10/site-packages (from spacy<3.4.0,>=3.3.0.dev0->en-core-web-trf==3.3.0) (2.0.6)\r\n",
      "Requirement already satisfied: typer<0.5.0,>=0.3.0 in /home/juanbermeo/anaconda3/envs/ATAI/lib/python3.10/site-packages (from spacy<3.4.0,>=3.3.0.dev0->en-core-web-trf==3.3.0) (0.4.1)\r\n",
      "Requirement already satisfied: pathy>=0.3.5 in /home/juanbermeo/anaconda3/envs/ATAI/lib/python3.10/site-packages (from spacy<3.4.0,>=3.3.0.dev0->en-core-web-trf==3.3.0) (0.6.1)\r\n",
      "Requirement already satisfied: pydantic!=1.8,!=1.8.1,<1.9.0,>=1.7.4 in /home/juanbermeo/anaconda3/envs/ATAI/lib/python3.10/site-packages (from spacy<3.4.0,>=3.3.0.dev0->en-core-web-trf==3.3.0) (1.8.2)\r\n",
      "Requirement already satisfied: langcodes<4.0.0,>=3.2.0 in /home/juanbermeo/anaconda3/envs/ATAI/lib/python3.10/site-packages (from spacy<3.4.0,>=3.3.0.dev0->en-core-web-trf==3.3.0) (3.3.0)\r\n",
      "Requirement already satisfied: packaging>=20.0 in /home/juanbermeo/anaconda3/envs/ATAI/lib/python3.10/site-packages (from spacy<3.4.0,>=3.3.0.dev0->en-core-web-trf==3.3.0) (21.3)\r\n",
      "Collecting spacy-alignments<1.0.0,>=0.7.2\r\n",
      "  Using cached spacy_alignments-0.8.6-cp310-cp310-manylinux_2_17_x86_64.manylinux2014_x86_64.whl (1.1 MB)\r\n",
      "Collecting transformers<4.22.0,>=3.4.0\r\n",
      "  Downloading transformers-4.21.3-py3-none-any.whl (4.7 MB)\r\n",
      "\u001B[2K     \u001B[90m━━━━━━━━━━━━━━━━━━━━━━━━━━━━━━━━━━━━━━━━\u001B[0m \u001B[32m4.7/4.7 MB\u001B[0m \u001B[31m11.8 MB/s\u001B[0m eta \u001B[36m0:00:00\u001B[0m00:01\u001B[0m00:01\u001B[0m\r\n",
      "\u001B[?25hCollecting torch>=1.6.0\r\n",
      "  Using cached torch-1.13.0-cp310-cp310-manylinux1_x86_64.whl (890.1 MB)\r\n",
      "Collecting spacy-transformers<1.2.0,>=1.1.2\r\n",
      "  Using cached spacy_transformers-1.1.7-py2.py3-none-any.whl (53 kB)\r\n",
      "Collecting transformers<4.21.0,>=3.4.0\r\n",
      "  Using cached transformers-4.20.1-py3-none-any.whl (4.4 MB)\r\n",
      "Requirement already satisfied: pyparsing!=3.0.5,>=2.0.2 in /home/juanbermeo/anaconda3/envs/ATAI/lib/python3.10/site-packages (from packaging>=20.0->spacy<3.4.0,>=3.3.0.dev0->en-core-web-trf==3.3.0) (3.0.9)\r\n",
      "Requirement already satisfied: smart-open<6.0.0,>=5.0.0 in /home/juanbermeo/anaconda3/envs/ATAI/lib/python3.10/site-packages (from pathy>=0.3.5->spacy<3.4.0,>=3.3.0.dev0->en-core-web-trf==3.3.0) (5.2.1)\r\n",
      "Requirement already satisfied: typing-extensions>=3.7.4.3 in /home/juanbermeo/anaconda3/envs/ATAI/lib/python3.10/site-packages (from pydantic!=1.8,!=1.8.1,<1.9.0,>=1.7.4->spacy<3.4.0,>=3.3.0.dev0->en-core-web-trf==3.3.0) (4.3.0)\r\n",
      "Requirement already satisfied: urllib3<1.27,>=1.21.1 in /home/juanbermeo/anaconda3/envs/ATAI/lib/python3.10/site-packages (from requests<3.0.0,>=2.13.0->spacy<3.4.0,>=3.3.0.dev0->en-core-web-trf==3.3.0) (1.26.12)\r\n",
      "Requirement already satisfied: charset-normalizer<3,>=2 in /home/juanbermeo/anaconda3/envs/ATAI/lib/python3.10/site-packages (from requests<3.0.0,>=2.13.0->spacy<3.4.0,>=3.3.0.dev0->en-core-web-trf==3.3.0) (2.0.4)\r\n",
      "Requirement already satisfied: idna<4,>=2.5 in /home/juanbermeo/anaconda3/envs/ATAI/lib/python3.10/site-packages (from requests<3.0.0,>=2.13.0->spacy<3.4.0,>=3.3.0.dev0->en-core-web-trf==3.3.0) (3.4)\r\n",
      "Requirement already satisfied: certifi>=2017.4.17 in /home/juanbermeo/anaconda3/envs/ATAI/lib/python3.10/site-packages (from requests<3.0.0,>=2.13.0->spacy<3.4.0,>=3.3.0.dev0->en-core-web-trf==3.3.0) (2022.9.24)\r\n",
      "Collecting nvidia-cuda-nvrtc-cu11==11.7.99\r\n",
      "  Using cached nvidia_cuda_nvrtc_cu11-11.7.99-2-py3-none-manylinux1_x86_64.whl (21.0 MB)\r\n",
      "Collecting nvidia-cublas-cu11==11.10.3.66\r\n",
      "  Using cached nvidia_cublas_cu11-11.10.3.66-py3-none-manylinux1_x86_64.whl (317.1 MB)\r\n",
      "Collecting nvidia-cuda-runtime-cu11==11.7.99\r\n",
      "  Using cached nvidia_cuda_runtime_cu11-11.7.99-py3-none-manylinux1_x86_64.whl (849 kB)\r\n",
      "Collecting nvidia-cudnn-cu11==8.5.0.96\r\n",
      "  Using cached nvidia_cudnn_cu11-8.5.0.96-2-py3-none-manylinux1_x86_64.whl (557.1 MB)\r\n",
      "Requirement already satisfied: wheel in /home/juanbermeo/anaconda3/envs/ATAI/lib/python3.10/site-packages (from nvidia-cublas-cu11==11.10.3.66->torch>=1.6.0->spacy-transformers<1.2.0,>=1.1.2->en-core-web-trf==3.3.0) (0.37.1)\r\n",
      "Collecting filelock\r\n",
      "  Using cached filelock-3.8.0-py3-none-any.whl (10 kB)\r\n",
      "Collecting pyyaml>=5.1\r\n",
      "  Using cached PyYAML-6.0-cp310-cp310-manylinux_2_5_x86_64.manylinux1_x86_64.manylinux_2_12_x86_64.manylinux2010_x86_64.whl (682 kB)\r\n",
      "Collecting tokenizers!=0.11.3,<0.13,>=0.11.1\r\n",
      "  Using cached tokenizers-0.12.1-cp310-cp310-manylinux_2_12_x86_64.manylinux2010_x86_64.whl (6.6 MB)\r\n",
      "Collecting huggingface-hub<1.0,>=0.1.0\r\n",
      "  Downloading huggingface_hub-0.11.0-py3-none-any.whl (182 kB)\r\n",
      "\u001B[2K     \u001B[90m━━━━━━━━━━━━━━━━━━━━━━━━━━━━━━━━━━━━━━\u001B[0m \u001B[32m182.1/182.1 kB\u001B[0m \u001B[31m18.5 MB/s\u001B[0m eta \u001B[36m0:00:00\u001B[0m\r\n",
      "\u001B[?25hCollecting regex!=2019.12.17\r\n",
      "  Downloading regex-2022.10.31-cp310-cp310-manylinux_2_17_x86_64.manylinux2014_x86_64.whl (770 kB)\r\n",
      "\u001B[2K     \u001B[90m━━━━━━━━━━━━━━━━━━━━━━━━━━━━━━━━━━━━━━\u001B[0m \u001B[32m770.5/770.5 kB\u001B[0m \u001B[31m11.5 MB/s\u001B[0m eta \u001B[36m0:00:00\u001B[0ma \u001B[36m0:00:01\u001B[0m\r\n",
      "\u001B[?25hRequirement already satisfied: click<9.0.0,>=7.1.1 in /home/juanbermeo/anaconda3/envs/ATAI/lib/python3.10/site-packages (from typer<0.5.0,>=0.3.0->spacy<3.4.0,>=3.3.0.dev0->en-core-web-trf==3.3.0) (8.0.4)\r\n",
      "Requirement already satisfied: MarkupSafe>=2.0 in /home/juanbermeo/anaconda3/envs/ATAI/lib/python3.10/site-packages (from jinja2->spacy<3.4.0,>=3.3.0.dev0->en-core-web-trf==3.3.0) (2.1.1)\r\n",
      "Installing collected packages: tokenizers, spacy-alignments, regex, pyyaml, nvidia-cuda-runtime-cu11, nvidia-cuda-nvrtc-cu11, nvidia-cublas-cu11, filelock, nvidia-cudnn-cu11, huggingface-hub, transformers, torch, spacy-transformers, en-core-web-trf\r\n",
      "Successfully installed en-core-web-trf-3.3.0 filelock-3.8.0 huggingface-hub-0.11.0 nvidia-cublas-cu11-11.10.3.66 nvidia-cuda-nvrtc-cu11-11.7.99 nvidia-cuda-runtime-cu11-11.7.99 nvidia-cudnn-cu11-8.5.0.96 pyyaml-6.0 regex-2022.10.31 spacy-alignments-0.8.6 spacy-transformers-1.1.7 tokenizers-0.12.1 torch-1.13.0 transformers-4.20.1\r\n",
      "\u001B[38;5;2m✔ Download and installation successful\u001B[0m\r\n",
      "You can now load the package via spacy.load('en_core_web_trf')\r\n"
     ]
    }
   ],
   "source": [
    "!python -m spacy download en_core_web_sm\n",
    "!python -m spacy download en_core_web_trf"
   ],
   "metadata": {
    "collapsed": false
   }
  },
  {
   "cell_type": "markdown",
   "source": [
    "# Test the entity linker from spacy derived projects"
   ],
   "metadata": {
    "collapsed": false
   }
  },
  {
   "cell_type": "markdown",
   "source": [
    "## Open Tapioca: Precision is to low, though it does pick up predictes or relations"
   ],
   "metadata": {
    "collapsed": false
   }
  },
  {
   "cell_type": "code",
   "execution_count": 2,
   "outputs": [
    {
     "name": "stdout",
     "output_type": "stream",
     "text": [
      "Collecting spacyopentapioca\r\n",
      "  Downloading spacyopentapioca-0.1.6-py3-none-any.whl (7.4 kB)\r\n",
      "Requirement already satisfied: spacy>=3.1.4 in /home/juanbermeo/anaconda3/envs/ATAI/lib/python3.10/site-packages (from spacyopentapioca) (3.3.1)\r\n",
      "Requirement already satisfied: requests>=2.24.0 in /home/juanbermeo/anaconda3/envs/ATAI/lib/python3.10/site-packages (from spacyopentapioca) (2.28.1)\r\n",
      "Requirement already satisfied: idna<4,>=2.5 in /home/juanbermeo/anaconda3/envs/ATAI/lib/python3.10/site-packages (from requests>=2.24.0->spacyopentapioca) (3.4)\r\n",
      "Requirement already satisfied: urllib3<1.27,>=1.21.1 in /home/juanbermeo/anaconda3/envs/ATAI/lib/python3.10/site-packages (from requests>=2.24.0->spacyopentapioca) (1.26.12)\r\n",
      "Requirement already satisfied: charset-normalizer<3,>=2 in /home/juanbermeo/anaconda3/envs/ATAI/lib/python3.10/site-packages (from requests>=2.24.0->spacyopentapioca) (2.0.4)\r\n",
      "Requirement already satisfied: certifi>=2017.4.17 in /home/juanbermeo/anaconda3/envs/ATAI/lib/python3.10/site-packages (from requests>=2.24.0->spacyopentapioca) (2022.9.24)\r\n",
      "Requirement already satisfied: spacy-legacy<3.1.0,>=3.0.9 in /home/juanbermeo/anaconda3/envs/ATAI/lib/python3.10/site-packages (from spacy>=3.1.4->spacyopentapioca) (3.0.9)\r\n",
      "Requirement already satisfied: typer<0.5.0,>=0.3.0 in /home/juanbermeo/anaconda3/envs/ATAI/lib/python3.10/site-packages (from spacy>=3.1.4->spacyopentapioca) (0.4.1)\r\n",
      "Requirement already satisfied: catalogue<2.1.0,>=2.0.6 in /home/juanbermeo/anaconda3/envs/ATAI/lib/python3.10/site-packages (from spacy>=3.1.4->spacyopentapioca) (2.0.7)\r\n",
      "Requirement already satisfied: pathy>=0.3.5 in /home/juanbermeo/anaconda3/envs/ATAI/lib/python3.10/site-packages (from spacy>=3.1.4->spacyopentapioca) (0.6.1)\r\n",
      "Requirement already satisfied: murmurhash<1.1.0,>=0.28.0 in /home/juanbermeo/anaconda3/envs/ATAI/lib/python3.10/site-packages (from spacy>=3.1.4->spacyopentapioca) (1.0.7)\r\n",
      "Requirement already satisfied: numpy>=1.15.0 in /home/juanbermeo/anaconda3/envs/ATAI/lib/python3.10/site-packages (from spacy>=3.1.4->spacyopentapioca) (1.23.3)\r\n",
      "Requirement already satisfied: blis<0.8.0,>=0.4.0 in /home/juanbermeo/anaconda3/envs/ATAI/lib/python3.10/site-packages (from spacy>=3.1.4->spacyopentapioca) (0.7.7)\r\n",
      "Requirement already satisfied: tqdm<5.0.0,>=4.38.0 in /home/juanbermeo/anaconda3/envs/ATAI/lib/python3.10/site-packages (from spacy>=3.1.4->spacyopentapioca) (4.64.1)\r\n",
      "Requirement already satisfied: langcodes<4.0.0,>=3.2.0 in /home/juanbermeo/anaconda3/envs/ATAI/lib/python3.10/site-packages (from spacy>=3.1.4->spacyopentapioca) (3.3.0)\r\n",
      "Requirement already satisfied: wasabi<1.1.0,>=0.9.1 in /home/juanbermeo/anaconda3/envs/ATAI/lib/python3.10/site-packages (from spacy>=3.1.4->spacyopentapioca) (0.9.1)\r\n",
      "Requirement already satisfied: preshed<3.1.0,>=3.0.2 in /home/juanbermeo/anaconda3/envs/ATAI/lib/python3.10/site-packages (from spacy>=3.1.4->spacyopentapioca) (3.0.6)\r\n",
      "Requirement already satisfied: cymem<2.1.0,>=2.0.2 in /home/juanbermeo/anaconda3/envs/ATAI/lib/python3.10/site-packages (from spacy>=3.1.4->spacyopentapioca) (2.0.6)\r\n",
      "Requirement already satisfied: spacy-loggers<2.0.0,>=1.0.0 in /home/juanbermeo/anaconda3/envs/ATAI/lib/python3.10/site-packages (from spacy>=3.1.4->spacyopentapioca) (1.0.1)\r\n",
      "Requirement already satisfied: setuptools in /home/juanbermeo/anaconda3/envs/ATAI/lib/python3.10/site-packages (from spacy>=3.1.4->spacyopentapioca) (65.5.0)\r\n",
      "Collecting pydantic!=1.8,!=1.8.1,<1.9.0,>=1.7.4\r\n",
      "  Downloading pydantic-1.8.2-py3-none-any.whl (126 kB)\r\n",
      "\u001B[2K     \u001B[90m━━━━━━━━━━━━━━━━━━━━━━━━━━━━━━━━━━━━━━━\u001B[0m \u001B[32m126.0/126.0 kB\u001B[0m \u001B[31m5.0 MB/s\u001B[0m eta \u001B[36m0:00:00\u001B[0m\r\n",
      "\u001B[?25hRequirement already satisfied: srsly<3.0.0,>=2.4.3 in /home/juanbermeo/anaconda3/envs/ATAI/lib/python3.10/site-packages (from spacy>=3.1.4->spacyopentapioca) (2.4.3)\r\n",
      "Requirement already satisfied: jinja2 in /home/juanbermeo/anaconda3/envs/ATAI/lib/python3.10/site-packages (from spacy>=3.1.4->spacyopentapioca) (3.1.2)\r\n",
      "Requirement already satisfied: packaging>=20.0 in /home/juanbermeo/anaconda3/envs/ATAI/lib/python3.10/site-packages (from spacy>=3.1.4->spacyopentapioca) (21.3)\r\n",
      "Requirement already satisfied: thinc<8.1.0,>=8.0.14 in /home/juanbermeo/anaconda3/envs/ATAI/lib/python3.10/site-packages (from spacy>=3.1.4->spacyopentapioca) (8.0.15)\r\n",
      "Requirement already satisfied: pyparsing!=3.0.5,>=2.0.2 in /home/juanbermeo/anaconda3/envs/ATAI/lib/python3.10/site-packages (from packaging>=20.0->spacy>=3.1.4->spacyopentapioca) (3.0.9)\r\n",
      "Requirement already satisfied: smart-open<6.0.0,>=5.0.0 in /home/juanbermeo/anaconda3/envs/ATAI/lib/python3.10/site-packages (from pathy>=0.3.5->spacy>=3.1.4->spacyopentapioca) (5.2.1)\r\n",
      "Requirement already satisfied: typing-extensions>=3.7.4.3 in /home/juanbermeo/anaconda3/envs/ATAI/lib/python3.10/site-packages (from pydantic!=1.8,!=1.8.1,<1.9.0,>=1.7.4->spacy>=3.1.4->spacyopentapioca) (4.3.0)\r\n",
      "Requirement already satisfied: click<9.0.0,>=7.1.1 in /home/juanbermeo/anaconda3/envs/ATAI/lib/python3.10/site-packages (from typer<0.5.0,>=0.3.0->spacy>=3.1.4->spacyopentapioca) (8.0.4)\r\n",
      "Requirement already satisfied: MarkupSafe>=2.0 in /home/juanbermeo/anaconda3/envs/ATAI/lib/python3.10/site-packages (from jinja2->spacy>=3.1.4->spacyopentapioca) (2.1.1)\r\n",
      "Installing collected packages: pydantic, spacyopentapioca\r\n",
      "  Attempting uninstall: pydantic\r\n",
      "    Found existing installation: pydantic 1.10.2\r\n",
      "    Uninstalling pydantic-1.10.2:\r\n",
      "      Successfully uninstalled pydantic-1.10.2\r\n",
      "Successfully installed pydantic-1.8.2 spacyopentapioca-0.1.6\r\n"
     ]
    }
   ],
   "source": [
    "!pip install spacyopentapioca"
   ],
   "metadata": {
    "collapsed": false
   }
  },
  {
   "cell_type": "code",
   "execution_count": 8,
   "outputs": [
    {
     "name": "stdout",
     "output_type": "stream",
     "text": [
      "('director', 'Q2526255', 'PERSON', 'occupation of a person who directs a film', 0.896437634369846)\n",
      "('Batman', '', 'WORK_OF_ART', 'province of Turkey', -0.29949270098223224)\n"
     ]
    }
   ],
   "source": [
    "# https://github.com/UB-Mannheim/spacyopentapioca\n",
    "import spacy\n",
    "nlp = spacy.load('en_core_web_trf')\n",
    "nlp.add_pipe('opentapioca')\n",
    "doc = nlp('who is the director of Batman 1989')\n",
    "for span in doc.ents:\n",
    "    print((span.text, span.kb_id_, span.label_, span._.description, span._.score))"
   ],
   "metadata": {
    "collapsed": false
   }
  },
  {
   "cell_type": "markdown",
   "source": [
    "## Spacy fishing: Good to detect movie entities from wikidata"
   ],
   "metadata": {
    "collapsed": false
   }
  },
  {
   "cell_type": "code",
   "execution_count": 3,
   "outputs": [
    {
     "name": "stdout",
     "output_type": "stream",
     "text": [
      "Collecting spacyfishing\r\n",
      "  Downloading spacyfishing-0.1.8-py3-none-any.whl (24 kB)\r\n",
      "Requirement already satisfied: requests>=2.28.0 in /home/juanbermeo/anaconda3/envs/ATAI/lib/python3.10/site-packages (from spacyfishing) (2.28.1)\r\n",
      "Requirement already satisfied: spacy>=3.3.1 in /home/juanbermeo/anaconda3/envs/ATAI/lib/python3.10/site-packages (from spacyfishing) (3.3.1)\r\n",
      "Requirement already satisfied: certifi>=2017.4.17 in /home/juanbermeo/anaconda3/envs/ATAI/lib/python3.10/site-packages (from requests>=2.28.0->spacyfishing) (2022.9.24)\r\n",
      "Requirement already satisfied: urllib3<1.27,>=1.21.1 in /home/juanbermeo/anaconda3/envs/ATAI/lib/python3.10/site-packages (from requests>=2.28.0->spacyfishing) (1.26.12)\r\n",
      "Requirement already satisfied: charset-normalizer<3,>=2 in /home/juanbermeo/anaconda3/envs/ATAI/lib/python3.10/site-packages (from requests>=2.28.0->spacyfishing) (2.0.4)\r\n",
      "Requirement already satisfied: idna<4,>=2.5 in /home/juanbermeo/anaconda3/envs/ATAI/lib/python3.10/site-packages (from requests>=2.28.0->spacyfishing) (3.4)\r\n",
      "Requirement already satisfied: murmurhash<1.1.0,>=0.28.0 in /home/juanbermeo/anaconda3/envs/ATAI/lib/python3.10/site-packages (from spacy>=3.3.1->spacyfishing) (1.0.7)\r\n",
      "Requirement already satisfied: thinc<8.1.0,>=8.0.14 in /home/juanbermeo/anaconda3/envs/ATAI/lib/python3.10/site-packages (from spacy>=3.3.1->spacyfishing) (8.0.15)\r\n",
      "Requirement already satisfied: spacy-loggers<2.0.0,>=1.0.0 in /home/juanbermeo/anaconda3/envs/ATAI/lib/python3.10/site-packages (from spacy>=3.3.1->spacyfishing) (1.0.1)\r\n",
      "Requirement already satisfied: numpy>=1.15.0 in /home/juanbermeo/anaconda3/envs/ATAI/lib/python3.10/site-packages (from spacy>=3.3.1->spacyfishing) (1.23.3)\r\n",
      "Requirement already satisfied: spacy-legacy<3.1.0,>=3.0.9 in /home/juanbermeo/anaconda3/envs/ATAI/lib/python3.10/site-packages (from spacy>=3.3.1->spacyfishing) (3.0.9)\r\n",
      "Requirement already satisfied: typer<0.5.0,>=0.3.0 in /home/juanbermeo/anaconda3/envs/ATAI/lib/python3.10/site-packages (from spacy>=3.3.1->spacyfishing) (0.4.1)\r\n",
      "Requirement already satisfied: tqdm<5.0.0,>=4.38.0 in /home/juanbermeo/anaconda3/envs/ATAI/lib/python3.10/site-packages (from spacy>=3.3.1->spacyfishing) (4.64.1)\r\n",
      "Requirement already satisfied: preshed<3.1.0,>=3.0.2 in /home/juanbermeo/anaconda3/envs/ATAI/lib/python3.10/site-packages (from spacy>=3.3.1->spacyfishing) (3.0.6)\r\n",
      "Requirement already satisfied: cymem<2.1.0,>=2.0.2 in /home/juanbermeo/anaconda3/envs/ATAI/lib/python3.10/site-packages (from spacy>=3.3.1->spacyfishing) (2.0.6)\r\n",
      "Requirement already satisfied: setuptools in /home/juanbermeo/anaconda3/envs/ATAI/lib/python3.10/site-packages (from spacy>=3.3.1->spacyfishing) (65.5.0)\r\n",
      "Requirement already satisfied: pydantic!=1.8,!=1.8.1,<1.9.0,>=1.7.4 in /home/juanbermeo/anaconda3/envs/ATAI/lib/python3.10/site-packages (from spacy>=3.3.1->spacyfishing) (1.8.2)\r\n",
      "Requirement already satisfied: jinja2 in /home/juanbermeo/anaconda3/envs/ATAI/lib/python3.10/site-packages (from spacy>=3.3.1->spacyfishing) (3.1.2)\r\n",
      "Requirement already satisfied: packaging>=20.0 in /home/juanbermeo/anaconda3/envs/ATAI/lib/python3.10/site-packages (from spacy>=3.3.1->spacyfishing) (21.3)\r\n",
      "Requirement already satisfied: wasabi<1.1.0,>=0.9.1 in /home/juanbermeo/anaconda3/envs/ATAI/lib/python3.10/site-packages (from spacy>=3.3.1->spacyfishing) (0.9.1)\r\n",
      "Requirement already satisfied: srsly<3.0.0,>=2.4.3 in /home/juanbermeo/anaconda3/envs/ATAI/lib/python3.10/site-packages (from spacy>=3.3.1->spacyfishing) (2.4.3)\r\n",
      "Requirement already satisfied: pathy>=0.3.5 in /home/juanbermeo/anaconda3/envs/ATAI/lib/python3.10/site-packages (from spacy>=3.3.1->spacyfishing) (0.6.1)\r\n",
      "Requirement already satisfied: catalogue<2.1.0,>=2.0.6 in /home/juanbermeo/anaconda3/envs/ATAI/lib/python3.10/site-packages (from spacy>=3.3.1->spacyfishing) (2.0.7)\r\n",
      "Requirement already satisfied: langcodes<4.0.0,>=3.2.0 in /home/juanbermeo/anaconda3/envs/ATAI/lib/python3.10/site-packages (from spacy>=3.3.1->spacyfishing) (3.3.0)\r\n",
      "Requirement already satisfied: blis<0.8.0,>=0.4.0 in /home/juanbermeo/anaconda3/envs/ATAI/lib/python3.10/site-packages (from spacy>=3.3.1->spacyfishing) (0.7.7)\r\n",
      "Requirement already satisfied: pyparsing!=3.0.5,>=2.0.2 in /home/juanbermeo/anaconda3/envs/ATAI/lib/python3.10/site-packages (from packaging>=20.0->spacy>=3.3.1->spacyfishing) (3.0.9)\r\n",
      "Requirement already satisfied: smart-open<6.0.0,>=5.0.0 in /home/juanbermeo/anaconda3/envs/ATAI/lib/python3.10/site-packages (from pathy>=0.3.5->spacy>=3.3.1->spacyfishing) (5.2.1)\r\n",
      "Requirement already satisfied: typing-extensions>=3.7.4.3 in /home/juanbermeo/anaconda3/envs/ATAI/lib/python3.10/site-packages (from pydantic!=1.8,!=1.8.1,<1.9.0,>=1.7.4->spacy>=3.3.1->spacyfishing) (4.3.0)\r\n",
      "Requirement already satisfied: click<9.0.0,>=7.1.1 in /home/juanbermeo/anaconda3/envs/ATAI/lib/python3.10/site-packages (from typer<0.5.0,>=0.3.0->spacy>=3.3.1->spacyfishing) (8.0.4)\r\n",
      "Requirement already satisfied: MarkupSafe>=2.0 in /home/juanbermeo/anaconda3/envs/ATAI/lib/python3.10/site-packages (from jinja2->spacy>=3.3.1->spacyfishing) (2.1.1)\r\n",
      "Installing collected packages: spacyfishing\r\n",
      "Successfully installed spacyfishing-0.1.8\r\n"
     ]
    }
   ],
   "source": [
    "!pip install spacyfishing"
   ],
   "metadata": {
    "collapsed": false
   }
  },
  {
   "cell_type": "code",
   "execution_count": 3,
   "outputs": [
    {
     "name": "stdout",
     "output_type": "stream",
     "text": [
      "('Batman', 'WORK_OF_ART', None, None, None)\n",
      "('1989', 'DATE', None, None, None)\n"
     ]
    }
   ],
   "source": [
    "# https://github.com/Lucaterre/spacyfishing\n",
    "import spacy\n",
    "text = 'who is the director of the film Batman 1989'\n",
    "nlp = spacy.load('en_core_web_sm')\n",
    "nlp.add_pipe('entityfishing')\n",
    "doc = nlp(text)\n",
    "for ent in doc.ents:\n",
    "    print((ent.text, ent.label_, ent._.kb_qid, ent._.url_wikidata, ent._.nerd_score))"
   ],
   "metadata": {
    "collapsed": false
   }
  },
  {
   "cell_type": "markdown",
   "source": [
    "## Spacy DBPedia Spotlight: It works well to pull stuff from DBPEDIA\n",
    "\n",
    "Could be useful to pull descriptions of a detected entity and answer the questions with a QA model"
   ],
   "metadata": {
    "collapsed": false
   }
  },
  {
   "cell_type": "code",
   "execution_count": null,
   "outputs": [],
   "source": [
    "!pip uninstall spacy-dbpedia-spotlight -Y"
   ],
   "metadata": {
    "collapsed": false,
    "pycharm": {
     "is_executing": true
    }
   }
  },
  {
   "cell_type": "code",
   "execution_count": 1,
   "outputs": [
    {
     "name": "stdout",
     "output_type": "stream",
     "text": [
      "Collecting spacy-dbpedia-spotlight\r\n",
      "  Using cached spacy_dbpedia_spotlight-0.2.5-py3-none-any.whl\r\n",
      "Collecting loguru\r\n",
      "  Using cached loguru-0.6.0-py3-none-any.whl (58 kB)\r\n",
      "Requirement already satisfied: spacy>=3 in /home/juanbermeo/anaconda3/envs/ATAI/lib/python3.10/site-packages (from spacy-dbpedia-spotlight) (3.3.1)\r\n",
      "Requirement already satisfied: spacy-legacy<3.1.0,>=3.0.9 in /home/juanbermeo/anaconda3/envs/ATAI/lib/python3.10/site-packages (from spacy>=3->spacy-dbpedia-spotlight) (3.0.9)\r\n",
      "Requirement already satisfied: requests<3.0.0,>=2.13.0 in /home/juanbermeo/anaconda3/envs/ATAI/lib/python3.10/site-packages (from spacy>=3->spacy-dbpedia-spotlight) (2.28.1)\r\n",
      "Requirement already satisfied: blis<0.8.0,>=0.4.0 in /home/juanbermeo/anaconda3/envs/ATAI/lib/python3.10/site-packages (from spacy>=3->spacy-dbpedia-spotlight) (0.7.7)\r\n",
      "Requirement already satisfied: wasabi<1.1.0,>=0.9.1 in /home/juanbermeo/anaconda3/envs/ATAI/lib/python3.10/site-packages (from spacy>=3->spacy-dbpedia-spotlight) (0.9.1)\r\n",
      "Requirement already satisfied: spacy-loggers<2.0.0,>=1.0.0 in /home/juanbermeo/anaconda3/envs/ATAI/lib/python3.10/site-packages (from spacy>=3->spacy-dbpedia-spotlight) (1.0.1)\r\n",
      "Requirement already satisfied: numpy>=1.15.0 in /home/juanbermeo/anaconda3/envs/ATAI/lib/python3.10/site-packages (from spacy>=3->spacy-dbpedia-spotlight) (1.23.4)\r\n",
      "Requirement already satisfied: langcodes<4.0.0,>=3.2.0 in /home/juanbermeo/anaconda3/envs/ATAI/lib/python3.10/site-packages (from spacy>=3->spacy-dbpedia-spotlight) (3.3.0)\r\n",
      "Requirement already satisfied: packaging>=20.0 in /home/juanbermeo/anaconda3/envs/ATAI/lib/python3.10/site-packages (from spacy>=3->spacy-dbpedia-spotlight) (21.3)\r\n",
      "Requirement already satisfied: pydantic!=1.8,!=1.8.1,<1.9.0,>=1.7.4 in /home/juanbermeo/anaconda3/envs/ATAI/lib/python3.10/site-packages (from spacy>=3->spacy-dbpedia-spotlight) (1.8.2)\r\n",
      "Requirement already satisfied: typer<0.5.0,>=0.3.0 in /home/juanbermeo/anaconda3/envs/ATAI/lib/python3.10/site-packages (from spacy>=3->spacy-dbpedia-spotlight) (0.4.1)\r\n",
      "Requirement already satisfied: cymem<2.1.0,>=2.0.2 in /home/juanbermeo/anaconda3/envs/ATAI/lib/python3.10/site-packages (from spacy>=3->spacy-dbpedia-spotlight) (2.0.6)\r\n",
      "Requirement already satisfied: murmurhash<1.1.0,>=0.28.0 in /home/juanbermeo/anaconda3/envs/ATAI/lib/python3.10/site-packages (from spacy>=3->spacy-dbpedia-spotlight) (1.0.7)\r\n",
      "Requirement already satisfied: thinc<8.1.0,>=8.0.14 in /home/juanbermeo/anaconda3/envs/ATAI/lib/python3.10/site-packages (from spacy>=3->spacy-dbpedia-spotlight) (8.0.15)\r\n",
      "Requirement already satisfied: jinja2 in /home/juanbermeo/anaconda3/envs/ATAI/lib/python3.10/site-packages (from spacy>=3->spacy-dbpedia-spotlight) (3.1.2)\r\n",
      "Requirement already satisfied: catalogue<2.1.0,>=2.0.6 in /home/juanbermeo/anaconda3/envs/ATAI/lib/python3.10/site-packages (from spacy>=3->spacy-dbpedia-spotlight) (2.0.7)\r\n",
      "Requirement already satisfied: pathy>=0.3.5 in /home/juanbermeo/anaconda3/envs/ATAI/lib/python3.10/site-packages (from spacy>=3->spacy-dbpedia-spotlight) (0.6.1)\r\n",
      "Requirement already satisfied: tqdm<5.0.0,>=4.38.0 in /home/juanbermeo/anaconda3/envs/ATAI/lib/python3.10/site-packages (from spacy>=3->spacy-dbpedia-spotlight) (4.64.1)\r\n",
      "Requirement already satisfied: preshed<3.1.0,>=3.0.2 in /home/juanbermeo/anaconda3/envs/ATAI/lib/python3.10/site-packages (from spacy>=3->spacy-dbpedia-spotlight) (3.0.6)\r\n",
      "Requirement already satisfied: srsly<3.0.0,>=2.4.3 in /home/juanbermeo/anaconda3/envs/ATAI/lib/python3.10/site-packages (from spacy>=3->spacy-dbpedia-spotlight) (2.4.3)\r\n",
      "Requirement already satisfied: setuptools in /home/juanbermeo/anaconda3/envs/ATAI/lib/python3.10/site-packages (from spacy>=3->spacy-dbpedia-spotlight) (65.5.0)\r\n",
      "Requirement already satisfied: pyparsing!=3.0.5,>=2.0.2 in /home/juanbermeo/anaconda3/envs/ATAI/lib/python3.10/site-packages (from packaging>=20.0->spacy>=3->spacy-dbpedia-spotlight) (3.0.9)\r\n",
      "Requirement already satisfied: smart-open<6.0.0,>=5.0.0 in /home/juanbermeo/anaconda3/envs/ATAI/lib/python3.10/site-packages (from pathy>=0.3.5->spacy>=3->spacy-dbpedia-spotlight) (5.2.1)\r\n",
      "Requirement already satisfied: typing-extensions>=3.7.4.3 in /home/juanbermeo/anaconda3/envs/ATAI/lib/python3.10/site-packages (from pydantic!=1.8,!=1.8.1,<1.9.0,>=1.7.4->spacy>=3->spacy-dbpedia-spotlight) (4.3.0)\r\n",
      "Requirement already satisfied: certifi>=2017.4.17 in /home/juanbermeo/anaconda3/envs/ATAI/lib/python3.10/site-packages (from requests<3.0.0,>=2.13.0->spacy>=3->spacy-dbpedia-spotlight) (2022.9.24)\r\n",
      "Requirement already satisfied: idna<4,>=2.5 in /home/juanbermeo/anaconda3/envs/ATAI/lib/python3.10/site-packages (from requests<3.0.0,>=2.13.0->spacy>=3->spacy-dbpedia-spotlight) (3.4)\r\n",
      "Requirement already satisfied: charset-normalizer<3,>=2 in /home/juanbermeo/anaconda3/envs/ATAI/lib/python3.10/site-packages (from requests<3.0.0,>=2.13.0->spacy>=3->spacy-dbpedia-spotlight) (2.0.4)\r\n",
      "Requirement already satisfied: urllib3<1.27,>=1.21.1 in /home/juanbermeo/anaconda3/envs/ATAI/lib/python3.10/site-packages (from requests<3.0.0,>=2.13.0->spacy>=3->spacy-dbpedia-spotlight) (1.26.12)\r\n",
      "Requirement already satisfied: click<9.0.0,>=7.1.1 in /home/juanbermeo/anaconda3/envs/ATAI/lib/python3.10/site-packages (from typer<0.5.0,>=0.3.0->spacy>=3->spacy-dbpedia-spotlight) (8.0.4)\r\n",
      "Requirement already satisfied: MarkupSafe>=2.0 in /home/juanbermeo/anaconda3/envs/ATAI/lib/python3.10/site-packages (from jinja2->spacy>=3->spacy-dbpedia-spotlight) (2.1.1)\r\n",
      "Installing collected packages: loguru, spacy-dbpedia-spotlight\r\n",
      "Successfully installed loguru-0.6.0 spacy-dbpedia-spotlight-0.2.5\r\n"
     ]
    }
   ],
   "source": [
    "!pip install spacy-dbpedia-spotlight"
   ],
   "metadata": {
    "collapsed": false
   }
  },
  {
   "cell_type": "code",
   "execution_count": 5,
   "outputs": [
    {
     "name": "stdout",
     "output_type": "stream",
     "text": [
      "Entities [('Batman', 'DBPEDIA_ENT', 'http://dbpedia.org/resource/Batman')]\n",
      "Wikidata:Q95074,Wikidata:Q24229398,DUL:Agent,DBpedia:FictionalCharacter,DBpedia:Agent,DBpedia:ComicsCharacter\n"
     ]
    }
   ],
   "source": [
    "import spacy\n",
    "import spacy_dbpedia_spotlight\n",
    "\n",
    "# https://github.com/MartinoMensio/spacy-dbpedia-spotlight\n",
    "# load your model as usual\n",
    "nlp = spacy.load('en_core_web_sm')\n",
    "# add the pipeline stage\n",
    "nlp.add_pipe('dbpedia_spotlight')\n",
    "# get the document\n",
    "doc = nlp('The president of USA is calling Boris Johnson to decide what to do about coronavirus')\n",
    "doc = nlp('who is the director of the film Batman 1989')\n",
    "\n",
    "# see the entities\n",
    "print('Entities', [(ent.text, ent.label_, ent.kb_id_) for ent in doc.ents])\n",
    "# inspect the raw data from DBpedia spotlight\n",
    "print(doc.ents[0]._.dbpedia_raw_result['@types'])"
   ],
   "metadata": {
    "collapsed": false
   }
  },
  {
   "cell_type": "markdown",
   "source": [
    "## Spacy entity linker"
   ],
   "metadata": {
    "collapsed": false
   }
  },
  {
   "cell_type": "code",
   "execution_count": null,
   "outputs": [],
   "source": [
    "!pip install spacy-entity-linker"
   ],
   "metadata": {
    "collapsed": false,
    "pycharm": {
     "is_executing": true
    }
   }
  },
  {
   "cell_type": "code",
   "execution_count": null,
   "outputs": [],
   "source": [
    "!python -m spacy_entity_linker \"download_knowledge_base\""
   ],
   "metadata": {
    "collapsed": false,
    "pycharm": {
     "is_executing": true
    }
   }
  },
  {
   "cell_type": "code",
   "execution_count": 6,
   "outputs": [
    {
     "name": "stdout",
     "output_type": "stream",
     "text": [
      "<EntityElement: https://www.wikidata.org/wiki/Q2526255 film director             occupation of a person who directs a film         >\n",
      "<EntityElement: https://www.wikidata.org/wiki/Q11424 film                      sequence of images that give the impression of movement>\n",
      "<EntityElement: https://www.wikidata.org/wiki/Q2695156 Batman                    fictional character, a comic book superhero created by artist Bob Kane and writer Bill Finger>\n"
     ]
    }
   ],
   "source": [
    "# initialize language model\n",
    "# https://github.com/egerber/spaCy-entity-linker\n",
    "import spacy\n",
    "nlp = spacy.load(\"en_core_web_trf\")\n",
    "\n",
    "# add pipeline (declared through entry_points in setup.py)\n",
    "nlp.add_pipe(\"entityLinker\", last=True)\n",
    "\n",
    "doc = nlp(\"I watched the Pirates of the Caribbean last silvester, which was directed by Leo Dicaprio\")\n",
    "doc = nlp(\"who is the director of the film Batman 1989\")\n",
    "\n",
    "# returns all entities in the whole document\n",
    "all_linked_entities = doc._.linkedEntities\n",
    "# iterates over sentences and prints linked entities\n",
    "for sent in doc.sents:\n",
    "    sent._.linkedEntities.pretty_print()"
   ],
   "metadata": {
    "collapsed": false
   }
  },
  {
   "cell_type": "markdown",
   "source": [
    "# Just for curiosity"
   ],
   "metadata": {
    "collapsed": false
   }
  },
  {
   "cell_type": "markdown",
   "source": [
    "# NER"
   ],
   "metadata": {
    "collapsed": false
   },
   "outputs": []
  },
  {
   "cell_type": "code",
   "execution_count": 2,
   "outputs": [],
   "source": [
    "\n",
    "import spacy\n",
    "\n",
    "nlp = spacy.load(\"en_core_web_trf\")"
   ],
   "metadata": {
    "collapsed": false
   }
  },
  {
   "cell_type": "code",
   "execution_count": 12,
   "outputs": [
    {
     "name": "stdout",
     "output_type": "stream",
     "text": [
      "0 The Matrix Revolutions WORK_OF_ART\n",
      "1 Keanu reves PERSON\n",
      "2 Pierce brosnan PERSON\n",
      "3 Juan bermeo PERSON\n",
      "4 english LANGUAGE\n",
      "5 english LANGUAGE\n",
      "6 korean LANGUAGE\n"
     ]
    }
   ],
   "source": [
    "\n",
    "doc = nlp(\"The Matrix Revolutions was such an amazing movie, Keanu reves was great in it. Pierce brosnan was not in it, as wasn't Juan bermeo. The main language of the movie was english, though you also see some english people speaking in korean \")\n",
    "\n",
    "for i, ent in enumerate(doc.ents):\n",
    "    print(i, ent.text, ent.label_)"
   ],
   "metadata": {
    "collapsed": false
   }
  },
  {
   "cell_type": "code",
   "execution_count": 20,
   "outputs": [
    {
     "name": "stdout",
     "output_type": "stream",
     "text": [
      "0 Colombia GPE\n",
      "1 pitalito GPE\n",
      "2 the magdalena river LOC\n",
      "3 Minas Tirith GPE\n",
      "4 GOT WORK_OF_ART\n",
      "5 Westeros LOC\n",
      "6 Essos GPE\n",
      "7 The Rand Corporation ORG\n",
      "8 Fox News ORG\n",
      "9 fox searchlight WORK_OF_ART\n",
      "10 CNN ORG\n",
      "11 Weinstein Company ORG\n",
      "12 A24 ORG\n"
     ]
    }
   ],
   "source": [
    "\n",
    "doc = nlp(\"The movie was filmed in Colombia, in pitalito specifically. They even have some scenes in the magdalena river, it looks like the white city of Minas Tirith. GOT takes places in Westeros and Essos. The Rand Corporation and Fox News suck, though fox searchlight makes some nice films. CNN, Weinstein Company, A24 \")\n",
    "\n",
    "for i, ent in enumerate(doc.ents):\n",
    "    print(i, ent.text, ent.label_)"
   ],
   "metadata": {
    "collapsed": false
   }
  },
  {
   "cell_type": "code",
   "execution_count": 22,
   "outputs": [
    {
     "name": "stdout",
     "output_type": "stream",
     "text": [
      "0 The Civil War EVENT\n",
      "1 Spain GPE\n",
      "2 the roaring twenties DATE\n"
     ]
    }
   ],
   "source": [
    "\n",
    "doc = nlp(\"The Civil War was such a hard period. Spain suffered greatly and it stifled the dadaism movement, cubism and the roaring twenties\")\n",
    "\n",
    "for i, ent in enumerate(doc.ents):\n",
    "    print(i, ent.text, ent.label_)"
   ],
   "metadata": {
    "collapsed": false
   }
  },
  {
   "cell_type": "code",
   "execution_count": 9,
   "outputs": [
    {
     "name": "stdout",
     "output_type": "stream",
     "text": [
      "0 Capatain america civil war EVENT\n"
     ]
    }
   ],
   "source": [
    "\n",
    "doc = nlp(\"Capatain america civil war has an is rated PG13, meaning it is directed at teenagers\")\n",
    "\n",
    "for i, ent in enumerate(doc.ents):\n",
    "    print(i, ent.text, ent.label_)"
   ],
   "metadata": {
    "collapsed": false
   }
  },
  {
   "cell_type": "markdown",
   "source": [
    "## Language detection"
   ],
   "metadata": {
    "collapsed": false
   }
  },
  {
   "cell_type": "code",
   "execution_count": 14,
   "outputs": [
    {
     "name": "stdout",
     "output_type": "stream",
     "text": [
      "huggingface/tokenizers: The current process just got forked, after parallelism has already been used. Disabling parallelism to avoid deadlocks...\n",
      "To disable this warning, you can either:\n",
      "\t- Avoid using `tokenizers` before the fork if possible\n",
      "\t- Explicitly set the environment variable TOKENIZERS_PARALLELISM=(true | false)\n",
      "Collecting spacy_cld\r\n",
      "  Downloading spacy_cld-0.1.0.tar.gz (3.3 kB)\r\n",
      "  Preparing metadata (setup.py) ... \u001B[?25ldone\r\n",
      "\u001B[?25hCollecting spacy<3.0.0,>=2.0.0\r\n",
      "  Downloading spacy-2.3.8-cp310-cp310-manylinux_2_17_x86_64.manylinux2014_x86_64.whl (4.9 MB)\r\n",
      "\u001B[2K     \u001B[90m━━━━━━━━━━━━━━━━━━━━━━━━━━━━━━━━━━━━━━━━\u001B[0m \u001B[32m4.9/4.9 MB\u001B[0m \u001B[31m11.6 MB/s\u001B[0m eta \u001B[36m0:00:00\u001B[0m00:01\u001B[0m00:01\u001B[0m\r\n",
      "\u001B[?25hCollecting pycld2>=0.31\r\n",
      "  Downloading pycld2-0.41.tar.gz (41.4 MB)\r\n",
      "\u001B[2K     \u001B[90m━━━━━━━━━━━━━━━━━━━━━━━━━━━━━━━━━━━━━━━━\u001B[0m \u001B[32m41.4/41.4 MB\u001B[0m \u001B[31m11.8 MB/s\u001B[0m eta \u001B[36m0:00:00\u001B[0m00:01\u001B[0m00:01\u001B[0m\r\n",
      "\u001B[?25h  Preparing metadata (setup.py) ... \u001B[?25ldone\r\n",
      "\u001B[?25hRequirement already satisfied: tqdm<5.0.0,>=4.38.0 in /home/juanbermeo/anaconda3/envs/ATAI/lib/python3.10/site-packages (from spacy<3.0.0,>=2.0.0->spacy_cld) (4.64.1)\r\n",
      "Requirement already satisfied: setuptools in /home/juanbermeo/anaconda3/envs/ATAI/lib/python3.10/site-packages (from spacy<3.0.0,>=2.0.0->spacy_cld) (65.5.0)\r\n",
      "Requirement already satisfied: blis<0.8.0,>=0.4.0 in /home/juanbermeo/anaconda3/envs/ATAI/lib/python3.10/site-packages (from spacy<3.0.0,>=2.0.0->spacy_cld) (0.7.9)\r\n",
      "Requirement already satisfied: wasabi<1.1.0,>=0.4.0 in /home/juanbermeo/anaconda3/envs/ATAI/lib/python3.10/site-packages (from spacy<3.0.0,>=2.0.0->spacy_cld) (0.9.1)\r\n",
      "Collecting thinc<7.5.0,>=7.4.1\r\n",
      "  Downloading thinc-7.4.6-cp310-cp310-manylinux_2_17_x86_64.manylinux2014_x86_64.whl (1.0 MB)\r\n",
      "\u001B[2K     \u001B[90m━━━━━━━━━━━━━━━━━━━━━━━━━━━━━━━━━━━━━━━━\u001B[0m \u001B[32m1.0/1.0 MB\u001B[0m \u001B[31m13.4 MB/s\u001B[0m eta \u001B[36m0:00:00\u001B[0m00:01\u001B[0m00:01\u001B[0m\r\n",
      "\u001B[?25hCollecting plac<1.2.0,>=0.9.6\r\n",
      "  Downloading plac-1.1.3-py2.py3-none-any.whl (20 kB)\r\n",
      "Requirement already satisfied: preshed<3.1.0,>=3.0.2 in /home/juanbermeo/anaconda3/envs/ATAI/lib/python3.10/site-packages (from spacy<3.0.0,>=2.0.0->spacy_cld) (3.0.6)\r\n",
      "Collecting catalogue<1.1.0,>=0.0.7\r\n",
      "  Downloading catalogue-1.0.2-py2.py3-none-any.whl (16 kB)\r\n",
      "Requirement already satisfied: cymem<2.1.0,>=2.0.2 in /home/juanbermeo/anaconda3/envs/ATAI/lib/python3.10/site-packages (from spacy<3.0.0,>=2.0.0->spacy_cld) (2.0.6)\r\n",
      "Collecting srsly<1.1.0,>=1.0.2\r\n",
      "  Downloading srsly-1.0.6-cp310-cp310-manylinux_2_17_x86_64.manylinux2014_x86_64.whl (209 kB)\r\n",
      "\u001B[2K     \u001B[90m━━━━━━━━━━━━━━━━━━━━━━━━━━━━━━━━━━━━━━\u001B[0m \u001B[32m209.8/209.8 kB\u001B[0m \u001B[31m23.3 MB/s\u001B[0m eta \u001B[36m0:00:00\u001B[0m\r\n",
      "\u001B[?25hRequirement already satisfied: requests<3.0.0,>=2.13.0 in /home/juanbermeo/anaconda3/envs/ATAI/lib/python3.10/site-packages (from spacy<3.0.0,>=2.0.0->spacy_cld) (2.28.1)\r\n",
      "Requirement already satisfied: murmurhash<1.1.0,>=0.28.0 in /home/juanbermeo/anaconda3/envs/ATAI/lib/python3.10/site-packages (from spacy<3.0.0,>=2.0.0->spacy_cld) (1.0.7)\r\n",
      "Requirement already satisfied: numpy>=1.15.0 in /home/juanbermeo/anaconda3/envs/ATAI/lib/python3.10/site-packages (from spacy<3.0.0,>=2.0.0->spacy_cld) (1.23.3)\r\n",
      "Requirement already satisfied: certifi>=2017.4.17 in /home/juanbermeo/anaconda3/envs/ATAI/lib/python3.10/site-packages (from requests<3.0.0,>=2.13.0->spacy<3.0.0,>=2.0.0->spacy_cld) (2022.9.24)\r\n",
      "Requirement already satisfied: charset-normalizer<3,>=2 in /home/juanbermeo/anaconda3/envs/ATAI/lib/python3.10/site-packages (from requests<3.0.0,>=2.13.0->spacy<3.0.0,>=2.0.0->spacy_cld) (2.0.4)\r\n",
      "Requirement already satisfied: idna<4,>=2.5 in /home/juanbermeo/anaconda3/envs/ATAI/lib/python3.10/site-packages (from requests<3.0.0,>=2.13.0->spacy<3.0.0,>=2.0.0->spacy_cld) (3.4)\r\n",
      "Requirement already satisfied: urllib3<1.27,>=1.21.1 in /home/juanbermeo/anaconda3/envs/ATAI/lib/python3.10/site-packages (from requests<3.0.0,>=2.13.0->spacy<3.0.0,>=2.0.0->spacy_cld) (1.26.12)\r\n",
      "Building wheels for collected packages: spacy_cld, pycld2\r\n",
      "  Building wheel for spacy_cld (setup.py) ... \u001B[?25ldone\r\n",
      "\u001B[?25h  Created wheel for spacy_cld: filename=spacy_cld-0.1.0-py3-none-any.whl size=4049 sha256=56c0f373b9140a4ec4f66687a3b103b0d7966c21eca381bbb4f4249ab42b93ec\r\n",
      "  Stored in directory: /home/juanbermeo/.cache/pip/wheels/72/da/6a/61441ff0bd7bcd8c96a99a8135766e2784f82dd0ec46987cd2\r\n",
      "  Building wheel for pycld2 (setup.py) ... \u001B[?25ldone\r\n",
      "\u001B[?25h  Created wheel for pycld2: filename=pycld2-0.41-cp310-cp310-linux_x86_64.whl size=4797941 sha256=cbca5ce3fd759229b7d0fe39c9130c2ada477150dd4f3d27d599fc2683b74852\r\n",
      "  Stored in directory: /home/juanbermeo/.cache/pip/wheels/be/81/31/240c89c845e008a93d98542325270007de595bfd356eb0b06c\r\n",
      "Successfully built spacy_cld pycld2\r\n",
      "Installing collected packages: pycld2, plac, srsly, catalogue, thinc, spacy, spacy_cld\r\n",
      "  Attempting uninstall: srsly\r\n",
      "    Found existing installation: srsly 2.4.3\r\n",
      "    Uninstalling srsly-2.4.3:\r\n",
      "      Successfully uninstalled srsly-2.4.3\r\n",
      "  Attempting uninstall: catalogue\r\n",
      "    Found existing installation: catalogue 2.0.7\r\n",
      "    Uninstalling catalogue-2.0.7:\r\n",
      "      Successfully uninstalled catalogue-2.0.7\r\n",
      "  Attempting uninstall: thinc\r\n",
      "    Found existing installation: thinc 8.1.5\r\n",
      "    Uninstalling thinc-8.1.5:\r\n",
      "      Successfully uninstalled thinc-8.1.5\r\n",
      "  Attempting uninstall: spacy\r\n",
      "    Found existing installation: spacy 3.4.3\r\n",
      "    Uninstalling spacy-3.4.3:\r\n",
      "      Successfully uninstalled spacy-3.4.3\r\n",
      "\u001B[31mERROR: pip's dependency resolver does not currently take into account all the packages that are installed. This behaviour is the source of the following dependency conflicts.\r\n",
      "spacyopentapioca 0.1.6 requires spacy>=3.1.4, but you have spacy 2.3.8 which is incompatible.\r\n",
      "spacyfishing 0.1.8 requires spacy>=3.3.1, but you have spacy 2.3.8 which is incompatible.\r\n",
      "spacy-transformers 1.1.7 requires spacy<4.0.0,>=3.1.3, but you have spacy 2.3.8 which is incompatible.\r\n",
      "spacy-transformers 1.1.7 requires srsly<3.0.0,>=2.4.0, but you have srsly 1.0.6 which is incompatible.\r\n",
      "spacy-entity-linker 1.0.2 requires spacy>=3.0.0, but you have spacy 2.3.8 which is incompatible.\r\n",
      "spacy-dbpedia-spotlight 0.2.5 requires spacy>=3, but you have spacy 2.3.8 which is incompatible.\r\n",
      "en-core-web-trf 3.3.0 requires spacy<3.4.0,>=3.3.0.dev0, but you have spacy 2.3.8 which is incompatible.\r\n",
      "en-core-web-sm 3.3.0 requires spacy<3.4.0,>=3.3.0.dev0, but you have spacy 2.3.8 which is incompatible.\r\n",
      "confection 0.0.3 requires srsly<3.0.0,>=2.4.0, but you have srsly 1.0.6 which is incompatible.\r\n",
      "concepcy 0.1.0 requires spacy<4.0.0,>=3.3.0, but you have spacy 2.3.8 which is incompatible.\u001B[0m\u001B[31m\r\n",
      "\u001B[0mSuccessfully installed catalogue-1.0.2 plac-1.1.3 pycld2-0.41 spacy-2.3.8 spacy_cld-0.1.0 srsly-1.0.6 thinc-7.4.6\r\n"
     ]
    }
   ],
   "source": [
    "#https://github.com/nickdavidhaynes/spacy-cld\n",
    "!pip install spacy_cld"
   ],
   "metadata": {
    "collapsed": false
   }
  },
  {
   "cell_type": "code",
   "execution_count": null,
   "outputs": [],
   "source": [
    "import spacy\n",
    "from spacy_cld import LanguageDetector\n",
    "\n",
    "nlp = spacy.load('en')\n",
    "language_detector = LanguageDetector()\n",
    "nlp.add_pipe(language_detector)\n",
    "doc = nlp('This is some English text.')\n",
    "\n",
    "doc._.languages  # ['en']\n",
    "doc._.language_scores['en']  # 0.96"
   ],
   "metadata": {
    "collapsed": false
   }
  },
  {
   "cell_type": "markdown",
   "source": [
    "## Concepcy"
   ],
   "metadata": {
    "collapsed": false
   }
  },
  {
   "cell_type": "code",
   "execution_count": 11,
   "outputs": [
    {
     "name": "stdout",
     "output_type": "stream",
     "text": [
      "huggingface/tokenizers: The current process just got forked, after parallelism has already been used. Disabling parallelism to avoid deadlocks...\n",
      "To disable this warning, you can either:\n",
      "\t- Avoid using `tokenizers` before the fork if possible\n",
      "\t- Explicitly set the environment variable TOKENIZERS_PARALLELISM=(true | false)\n",
      "Requirement already satisfied: concepcy in /home/juanbermeo/anaconda3/envs/ATAI/lib/python3.10/site-packages (0.1.0)\r\n",
      "Requirement already satisfied: spacy<4.0.0,>=3.3.0 in /home/juanbermeo/anaconda3/envs/ATAI/lib/python3.10/site-packages (from concepcy) (3.4.3)\r\n",
      "Requirement already satisfied: pydantic<2.0.0,>=1.9.1 in /home/juanbermeo/anaconda3/envs/ATAI/lib/python3.10/site-packages (from concepcy) (1.10.2)\r\n",
      "Requirement already satisfied: request-boost<0.7,>=0.6 in /home/juanbermeo/anaconda3/envs/ATAI/lib/python3.10/site-packages (from concepcy) (0.6)\r\n",
      "Requirement already satisfied: typing-extensions>=4.1.0 in /home/juanbermeo/anaconda3/envs/ATAI/lib/python3.10/site-packages (from pydantic<2.0.0,>=1.9.1->concepcy) (4.3.0)\r\n",
      "Requirement already satisfied: thinc<8.2.0,>=8.1.0 in /home/juanbermeo/anaconda3/envs/ATAI/lib/python3.10/site-packages (from spacy<4.0.0,>=3.3.0->concepcy) (8.1.5)\r\n",
      "Requirement already satisfied: requests<3.0.0,>=2.13.0 in /home/juanbermeo/anaconda3/envs/ATAI/lib/python3.10/site-packages (from spacy<4.0.0,>=3.3.0->concepcy) (2.28.1)\r\n",
      "Requirement already satisfied: setuptools in /home/juanbermeo/anaconda3/envs/ATAI/lib/python3.10/site-packages (from spacy<4.0.0,>=3.3.0->concepcy) (65.5.0)\r\n",
      "Requirement already satisfied: numpy>=1.15.0 in /home/juanbermeo/anaconda3/envs/ATAI/lib/python3.10/site-packages (from spacy<4.0.0,>=3.3.0->concepcy) (1.23.3)\r\n",
      "Requirement already satisfied: srsly<3.0.0,>=2.4.3 in /home/juanbermeo/anaconda3/envs/ATAI/lib/python3.10/site-packages (from spacy<4.0.0,>=3.3.0->concepcy) (2.4.3)\r\n",
      "Requirement already satisfied: wasabi<1.1.0,>=0.9.1 in /home/juanbermeo/anaconda3/envs/ATAI/lib/python3.10/site-packages (from spacy<4.0.0,>=3.3.0->concepcy) (0.9.1)\r\n",
      "Requirement already satisfied: catalogue<2.1.0,>=2.0.6 in /home/juanbermeo/anaconda3/envs/ATAI/lib/python3.10/site-packages (from spacy<4.0.0,>=3.3.0->concepcy) (2.0.7)\r\n",
      "Requirement already satisfied: spacy-legacy<3.1.0,>=3.0.10 in /home/juanbermeo/anaconda3/envs/ATAI/lib/python3.10/site-packages (from spacy<4.0.0,>=3.3.0->concepcy) (3.0.10)\r\n",
      "Requirement already satisfied: jinja2 in /home/juanbermeo/anaconda3/envs/ATAI/lib/python3.10/site-packages (from spacy<4.0.0,>=3.3.0->concepcy) (3.1.2)\r\n",
      "Requirement already satisfied: cymem<2.1.0,>=2.0.2 in /home/juanbermeo/anaconda3/envs/ATAI/lib/python3.10/site-packages (from spacy<4.0.0,>=3.3.0->concepcy) (2.0.6)\r\n",
      "Requirement already satisfied: langcodes<4.0.0,>=3.2.0 in /home/juanbermeo/anaconda3/envs/ATAI/lib/python3.10/site-packages (from spacy<4.0.0,>=3.3.0->concepcy) (3.3.0)\r\n",
      "Requirement already satisfied: preshed<3.1.0,>=3.0.2 in /home/juanbermeo/anaconda3/envs/ATAI/lib/python3.10/site-packages (from spacy<4.0.0,>=3.3.0->concepcy) (3.0.6)\r\n",
      "Requirement already satisfied: packaging>=20.0 in /home/juanbermeo/anaconda3/envs/ATAI/lib/python3.10/site-packages (from spacy<4.0.0,>=3.3.0->concepcy) (21.3)\r\n",
      "Requirement already satisfied: pathy>=0.3.5 in /home/juanbermeo/anaconda3/envs/ATAI/lib/python3.10/site-packages (from spacy<4.0.0,>=3.3.0->concepcy) (0.6.1)\r\n",
      "Requirement already satisfied: murmurhash<1.1.0,>=0.28.0 in /home/juanbermeo/anaconda3/envs/ATAI/lib/python3.10/site-packages (from spacy<4.0.0,>=3.3.0->concepcy) (1.0.7)\r\n",
      "Requirement already satisfied: typer<0.8.0,>=0.3.0 in /home/juanbermeo/anaconda3/envs/ATAI/lib/python3.10/site-packages (from spacy<4.0.0,>=3.3.0->concepcy) (0.4.1)\r\n",
      "Requirement already satisfied: spacy-loggers<2.0.0,>=1.0.0 in /home/juanbermeo/anaconda3/envs/ATAI/lib/python3.10/site-packages (from spacy<4.0.0,>=3.3.0->concepcy) (1.0.1)\r\n",
      "Requirement already satisfied: tqdm<5.0.0,>=4.38.0 in /home/juanbermeo/anaconda3/envs/ATAI/lib/python3.10/site-packages (from spacy<4.0.0,>=3.3.0->concepcy) (4.64.1)\r\n",
      "Requirement already satisfied: pyparsing!=3.0.5,>=2.0.2 in /home/juanbermeo/anaconda3/envs/ATAI/lib/python3.10/site-packages (from packaging>=20.0->spacy<4.0.0,>=3.3.0->concepcy) (3.0.9)\r\n",
      "Requirement already satisfied: smart-open<6.0.0,>=5.0.0 in /home/juanbermeo/anaconda3/envs/ATAI/lib/python3.10/site-packages (from pathy>=0.3.5->spacy<4.0.0,>=3.3.0->concepcy) (5.2.1)\r\n",
      "Requirement already satisfied: charset-normalizer<3,>=2 in /home/juanbermeo/anaconda3/envs/ATAI/lib/python3.10/site-packages (from requests<3.0.0,>=2.13.0->spacy<4.0.0,>=3.3.0->concepcy) (2.0.4)\r\n",
      "Requirement already satisfied: certifi>=2017.4.17 in /home/juanbermeo/anaconda3/envs/ATAI/lib/python3.10/site-packages (from requests<3.0.0,>=2.13.0->spacy<4.0.0,>=3.3.0->concepcy) (2022.9.24)\r\n",
      "Requirement already satisfied: idna<4,>=2.5 in /home/juanbermeo/anaconda3/envs/ATAI/lib/python3.10/site-packages (from requests<3.0.0,>=2.13.0->spacy<4.0.0,>=3.3.0->concepcy) (3.4)\r\n",
      "Requirement already satisfied: urllib3<1.27,>=1.21.1 in /home/juanbermeo/anaconda3/envs/ATAI/lib/python3.10/site-packages (from requests<3.0.0,>=2.13.0->spacy<4.0.0,>=3.3.0->concepcy) (1.26.12)\r\n",
      "Requirement already satisfied: blis<0.8.0,>=0.7.8 in /home/juanbermeo/anaconda3/envs/ATAI/lib/python3.10/site-packages (from thinc<8.2.0,>=8.1.0->spacy<4.0.0,>=3.3.0->concepcy) (0.7.9)\r\n",
      "Requirement already satisfied: confection<1.0.0,>=0.0.1 in /home/juanbermeo/anaconda3/envs/ATAI/lib/python3.10/site-packages (from thinc<8.2.0,>=8.1.0->spacy<4.0.0,>=3.3.0->concepcy) (0.0.3)\r\n",
      "Requirement already satisfied: click<9.0.0,>=7.1.1 in /home/juanbermeo/anaconda3/envs/ATAI/lib/python3.10/site-packages (from typer<0.8.0,>=0.3.0->spacy<4.0.0,>=3.3.0->concepcy) (8.0.4)\r\n",
      "Requirement already satisfied: MarkupSafe>=2.0 in /home/juanbermeo/anaconda3/envs/ATAI/lib/python3.10/site-packages (from jinja2->spacy<4.0.0,>=3.3.0->concepcy) (2.1.1)\r\n"
     ]
    }
   ],
   "source": [
    "!pip install concepcy"
   ],
   "metadata": {
    "collapsed": false
   }
  },
  {
   "cell_type": "code",
   "execution_count": 13,
   "outputs": [
    {
     "name": "stdout",
     "output_type": "stream",
     "text": [
      "Word: company [{'start': {'id': '/c/en/company', 'label': 'company', 'language': 'en', 'term': '/c/en/company', '@type': 'Node'}, 'end': {'id': '/c/en/business', 'label': 'business', 'language': 'en', 'term': '/c/en/business', '@type': 'Node'}, 'relation': 'RelatedTo', 'text': '[[company]] is related to [[business]]', 'weight': 6.424017434596516}, {'start': {'id': '/c/en/company', 'label': 'company', 'language': 'en', 'term': '/c/en/company', '@type': 'Node'}, 'end': {'id': '/c/en/corporation', 'label': 'corporation', 'language': 'en', 'term': '/c/en/corporation', '@type': 'Node'}, 'relation': 'RelatedTo', 'text': '[[company]] is related to [[corporation]]', 'weight': 4.432155231938521}, {'start': {'id': '/c/en/company', 'label': 'company', 'language': 'en', 'term': '/c/en/company', '@type': 'Node'}, 'end': {'id': '/c/en/organization', 'label': 'organization', 'language': 'en', 'term': '/c/en/organization', '@type': 'Node'}, 'relation': 'RelatedTo', 'text': '[[company]] is related to [[organization]]', 'weight': 4.259107887809371}, {'start': {'id': '/c/en/organization', 'label': 'organization', 'language': 'en', 'term': '/c/en/organization', '@type': 'Node'}, 'end': {'id': '/c/en/company', 'label': 'company', 'language': 'en', 'term': '/c/en/company', '@type': 'Node'}, 'relation': 'RelatedTo', 'text': '[[organization]] is related to [[company]]', 'weight': 3.4117444218463957}, {'start': {'id': '/c/en/business', 'label': 'business', 'language': 'en', 'term': '/c/en/business', '@type': 'Node'}, 'end': {'id': '/c/en/company', 'label': 'company', 'language': 'en', 'term': '/c/en/company', '@type': 'Node'}, 'relation': 'RelatedTo', 'text': '[[business]] is related to [[company]]', 'weight': 3.2174524083504323}, {'start': {'id': '/c/en/company', 'label': 'company', 'language': 'en', 'term': '/c/en/company', '@type': 'Node'}, 'end': {'id': '/c/en/group', 'label': 'group', 'language': 'en', 'term': '/c/en/group', '@type': 'Node'}, 'relation': 'RelatedTo', 'text': '[[company]] is related to [[group]]', 'weight': 2.615339366124404}, {'start': {'id': '/c/en/company', 'label': 'company', 'language': 'en', 'term': '/c/en/company', '@type': 'Node'}, 'end': {'id': '/c/en/firm', 'label': 'firm', 'language': 'en', 'term': '/c/en/firm', '@type': 'Node'}, 'relation': 'RelatedTo', 'text': '[[company]] is related to [[firm]]', 'weight': 2.5775957790157857}, {'start': {'id': '/c/en/corporation', 'label': 'corporation', 'language': 'en', 'term': '/c/en/corporation', '@type': 'Node'}, 'end': {'id': '/c/en/company', 'label': 'company', 'language': 'en', 'term': '/c/en/company', '@type': 'Node'}, 'relation': 'RelatedTo', 'text': '[[corporation]] is related to [[company]]', 'weight': 2.5651510676761315}, {'start': {'id': '/c/en/department', 'label': 'department', 'language': 'en', 'term': '/c/en/department', '@type': 'Node'}, 'end': {'id': '/c/en/company', 'label': 'company', 'language': 'en', 'term': '/c/en/company', '@type': 'Node'}, 'relation': 'RelatedTo', 'text': '[[department]] is related to [[company]]', 'weight': 2.420743687382041}, {'start': {'id': '/c/en/company', 'label': 'company', 'language': 'en', 'term': '/c/en/company', '@type': 'Node'}, 'end': {'id': '/c/en/work', 'label': 'work', 'language': 'en', 'term': '/c/en/work', '@type': 'Node'}, 'relation': 'RelatedTo', 'text': '[[company]] is related to [[work]]', 'weight': 2.06494551986245}, {'start': {'id': '/c/en/company', 'label': 'company', 'language': 'en', 'term': '/c/en/company', '@type': 'Node'}, 'end': {'id': '/c/en/people', 'label': 'people', 'language': 'en', 'term': '/c/en/people', '@type': 'Node'}, 'relation': 'RelatedTo', 'text': '[[company]] is related to [[people]]', 'weight': 2.0337158110217857}]\n"
     ]
    }
   ],
   "source": [
    "# Access all the 'RelatedTo' relations from the Doc\n",
    "for word, relations in doc._.relatedto.items():\n",
    "    print(f'Word: {word} {relations}')"
   ],
   "metadata": {
    "collapsed": false
   }
  },
  {
   "cell_type": "code",
   "execution_count": 12,
   "outputs": [
    {
     "name": "stdout",
     "output_type": "stream",
     "text": [
      "Word: company [{'start': {'id': '/c/en/company', 'label': 'company', 'language': 'en', 'term': '/c/en/company', '@type': 'Node'}, 'end': {'id': '/c/en/business', 'label': 'business', 'language': 'en', 'term': '/c/en/business', '@type': 'Node'}, 'relation': 'RelatedTo', 'text': '[[company]] is related to [[business]]', 'weight': 6.424017434596516}, {'start': {'id': '/c/en/company', 'label': 'company', 'language': 'en', 'term': '/c/en/company', '@type': 'Node'}, 'end': {'id': '/c/en/corporation', 'label': 'corporation', 'language': 'en', 'term': '/c/en/corporation', '@type': 'Node'}, 'relation': 'RelatedTo', 'text': '[[company]] is related to [[corporation]]', 'weight': 4.432155231938521}, {'start': {'id': '/c/en/company', 'label': 'company', 'language': 'en', 'term': '/c/en/company', '@type': 'Node'}, 'end': {'id': '/c/en/organization', 'label': 'organization', 'language': 'en', 'term': '/c/en/organization', '@type': 'Node'}, 'relation': 'RelatedTo', 'text': '[[company]] is related to [[organization]]', 'weight': 4.259107887809371}, {'start': {'id': '/c/en/organization', 'label': 'organization', 'language': 'en', 'term': '/c/en/organization', '@type': 'Node'}, 'end': {'id': '/c/en/company', 'label': 'company', 'language': 'en', 'term': '/c/en/company', '@type': 'Node'}, 'relation': 'RelatedTo', 'text': '[[organization]] is related to [[company]]', 'weight': 3.4117444218463957}, {'start': {'id': '/c/en/business', 'label': 'business', 'language': 'en', 'term': '/c/en/business', '@type': 'Node'}, 'end': {'id': '/c/en/company', 'label': 'company', 'language': 'en', 'term': '/c/en/company', '@type': 'Node'}, 'relation': 'RelatedTo', 'text': '[[business]] is related to [[company]]', 'weight': 3.2174524083504323}, {'start': {'id': '/c/en/company', 'label': 'company', 'language': 'en', 'term': '/c/en/company', '@type': 'Node'}, 'end': {'id': '/c/en/group', 'label': 'group', 'language': 'en', 'term': '/c/en/group', '@type': 'Node'}, 'relation': 'RelatedTo', 'text': '[[company]] is related to [[group]]', 'weight': 2.615339366124404}, {'start': {'id': '/c/en/company', 'label': 'company', 'language': 'en', 'term': '/c/en/company', '@type': 'Node'}, 'end': {'id': '/c/en/firm', 'label': 'firm', 'language': 'en', 'term': '/c/en/firm', '@type': 'Node'}, 'relation': 'RelatedTo', 'text': '[[company]] is related to [[firm]]', 'weight': 2.5775957790157857}, {'start': {'id': '/c/en/corporation', 'label': 'corporation', 'language': 'en', 'term': '/c/en/corporation', '@type': 'Node'}, 'end': {'id': '/c/en/company', 'label': 'company', 'language': 'en', 'term': '/c/en/company', '@type': 'Node'}, 'relation': 'RelatedTo', 'text': '[[corporation]] is related to [[company]]', 'weight': 2.5651510676761315}, {'start': {'id': '/c/en/department', 'label': 'department', 'language': 'en', 'term': '/c/en/department', '@type': 'Node'}, 'end': {'id': '/c/en/company', 'label': 'company', 'language': 'en', 'term': '/c/en/company', '@type': 'Node'}, 'relation': 'RelatedTo', 'text': '[[department]] is related to [[company]]', 'weight': 2.420743687382041}, {'start': {'id': '/c/en/company', 'label': 'company', 'language': 'en', 'term': '/c/en/company', '@type': 'Node'}, 'end': {'id': '/c/en/work', 'label': 'work', 'language': 'en', 'term': '/c/en/work', '@type': 'Node'}, 'relation': 'RelatedTo', 'text': '[[company]] is related to [[work]]', 'weight': 2.06494551986245}, {'start': {'id': '/c/en/company', 'label': 'company', 'language': 'en', 'term': '/c/en/company', '@type': 'Node'}, 'end': {'id': '/c/en/people', 'label': 'people', 'language': 'en', 'term': '/c/en/people', '@type': 'Node'}, 'relation': 'RelatedTo', 'text': '[[company]] is related to [[people]]', 'weight': 2.0337158110217857}]\n",
      "Word: WHO []\n",
      "Word: is []\n",
      "Word: a []\n",
      "Word: lovely []\n",
      "Word: company [{'start': {'id': '/c/en/company', 'label': 'company', 'language': 'en', 'term': '/c/en/company', '@type': 'Node'}, 'end': {'id': '/c/en/business', 'label': 'business', 'language': 'en', 'term': '/c/en/business', '@type': 'Node'}, 'relation': 'RelatedTo', 'text': '[[company]] is related to [[business]]', 'weight': 6.424017434596516}, {'start': {'id': '/c/en/company', 'label': 'company', 'language': 'en', 'term': '/c/en/company', '@type': 'Node'}, 'end': {'id': '/c/en/corporation', 'label': 'corporation', 'language': 'en', 'term': '/c/en/corporation', '@type': 'Node'}, 'relation': 'RelatedTo', 'text': '[[company]] is related to [[corporation]]', 'weight': 4.432155231938521}, {'start': {'id': '/c/en/company', 'label': 'company', 'language': 'en', 'term': '/c/en/company', '@type': 'Node'}, 'end': {'id': '/c/en/organization', 'label': 'organization', 'language': 'en', 'term': '/c/en/organization', '@type': 'Node'}, 'relation': 'RelatedTo', 'text': '[[company]] is related to [[organization]]', 'weight': 4.259107887809371}, {'start': {'id': '/c/en/organization', 'label': 'organization', 'language': 'en', 'term': '/c/en/organization', '@type': 'Node'}, 'end': {'id': '/c/en/company', 'label': 'company', 'language': 'en', 'term': '/c/en/company', '@type': 'Node'}, 'relation': 'RelatedTo', 'text': '[[organization]] is related to [[company]]', 'weight': 3.4117444218463957}, {'start': {'id': '/c/en/business', 'label': 'business', 'language': 'en', 'term': '/c/en/business', '@type': 'Node'}, 'end': {'id': '/c/en/company', 'label': 'company', 'language': 'en', 'term': '/c/en/company', '@type': 'Node'}, 'relation': 'RelatedTo', 'text': '[[business]] is related to [[company]]', 'weight': 3.2174524083504323}, {'start': {'id': '/c/en/company', 'label': 'company', 'language': 'en', 'term': '/c/en/company', '@type': 'Node'}, 'end': {'id': '/c/en/group', 'label': 'group', 'language': 'en', 'term': '/c/en/group', '@type': 'Node'}, 'relation': 'RelatedTo', 'text': '[[company]] is related to [[group]]', 'weight': 2.615339366124404}, {'start': {'id': '/c/en/company', 'label': 'company', 'language': 'en', 'term': '/c/en/company', '@type': 'Node'}, 'end': {'id': '/c/en/firm', 'label': 'firm', 'language': 'en', 'term': '/c/en/firm', '@type': 'Node'}, 'relation': 'RelatedTo', 'text': '[[company]] is related to [[firm]]', 'weight': 2.5775957790157857}, {'start': {'id': '/c/en/corporation', 'label': 'corporation', 'language': 'en', 'term': '/c/en/corporation', '@type': 'Node'}, 'end': {'id': '/c/en/company', 'label': 'company', 'language': 'en', 'term': '/c/en/company', '@type': 'Node'}, 'relation': 'RelatedTo', 'text': '[[corporation]] is related to [[company]]', 'weight': 2.5651510676761315}, {'start': {'id': '/c/en/department', 'label': 'department', 'language': 'en', 'term': '/c/en/department', '@type': 'Node'}, 'end': {'id': '/c/en/company', 'label': 'company', 'language': 'en', 'term': '/c/en/company', '@type': 'Node'}, 'relation': 'RelatedTo', 'text': '[[department]] is related to [[company]]', 'weight': 2.420743687382041}, {'start': {'id': '/c/en/company', 'label': 'company', 'language': 'en', 'term': '/c/en/company', '@type': 'Node'}, 'end': {'id': '/c/en/work', 'label': 'work', 'language': 'en', 'term': '/c/en/work', '@type': 'Node'}, 'relation': 'RelatedTo', 'text': '[[company]] is related to [[work]]', 'weight': 2.06494551986245}, {'start': {'id': '/c/en/company', 'label': 'company', 'language': 'en', 'term': '/c/en/company', '@type': 'Node'}, 'end': {'id': '/c/en/people', 'label': 'people', 'language': 'en', 'term': '/c/en/people', '@type': 'Node'}, 'relation': 'RelatedTo', 'text': '[[company]] is related to [[people]]', 'weight': 2.0337158110217857}]\n"
     ]
    }
   ],
   "source": [
    "# Access the 'RelatedTo' relations word by word\n",
    "for token in doc:\n",
    "    print(f'Word: {token} {token._.relatedto}')"
   ],
   "metadata": {
    "collapsed": false
   }
  },
  {
   "cell_type": "code",
   "execution_count": null,
   "outputs": [],
   "source": [],
   "metadata": {
    "collapsed": false
   }
  }
 ],
 "metadata": {
  "kernelspec": {
   "display_name": "Python 3",
   "language": "python",
   "name": "python3"
  },
  "language_info": {
   "codemirror_mode": {
    "name": "ipython",
    "version": 2
   },
   "file_extension": ".py",
   "mimetype": "text/x-python",
   "name": "python",
   "nbconvert_exporter": "python",
   "pygments_lexer": "ipython2",
   "version": "2.7.6"
  }
 },
 "nbformat": 4,
 "nbformat_minor": 0
}
